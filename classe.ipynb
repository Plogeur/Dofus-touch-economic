{
 "cells": [
  {
   "cell_type": "code",
   "execution_count": 1,
   "metadata": {},
   "outputs": [],
   "source": [
    "import requests\n",
    "from bs4 import BeautifulSoup\n",
    "import string\n",
    "import time\n",
    "import re"
   ]
  },
  {
   "cell_type": "code",
   "execution_count": 2,
   "metadata": {},
   "outputs": [],
   "source": [
    "def generate_combinations(x):\n",
    "    letters = string.ascii_lowercase\n",
    "    \n",
    "    # Recursive generator function to yield combinations\n",
    "    def generate_combinations_rec(prefix, length):\n",
    "        if length == 0:\n",
    "            yield prefix\n",
    "            return\n",
    "        for char in letters:\n",
    "            new_prefix = prefix + char\n",
    "            yield from generate_combinations_rec(new_prefix, length - 1)\n",
    "    \n",
    "    # Loop through lengths from 1 to x\n",
    "    for length in range(1, x + 1):\n",
    "        yield from generate_combinations_rec('', length)"
   ]
  },
  {
   "cell_type": "code",
   "execution_count": 42,
   "metadata": {},
   "outputs": [],
   "source": [
    "def parse_object_page(url, object_list):\n",
    "    \"\"\"\n",
    "    Fonction pour parser une page contenant des informations sur un type d'objet.\n",
    "    \"\"\"\n",
    "    headers = {\n",
    "        'User-Agent': 'Mozilla/5.0 (Windows NT 10.0; Win64; x64) AppleWebKit/537.36 (KHTML, like Gecko) Safari/537.3'}\n",
    "\n",
    "    response = requests.get(url, headers=headers)\n",
    "\n",
    "    if response.status_code == 200 :\n",
    "        soup = BeautifulSoup(response.text, \"html.parser\")\n",
    "        table = soup.find('table', class_='ak-table ak-responsivetable')\n",
    "        if table:\n",
    "            for row in table.find_all(\"tr\")[1:]:\n",
    "                cells = row.find_all(\"td\")\n",
    "                if cells:  # Ensure the row is not empty\n",
    "                    name = cells[1].text.strip()\n",
    "                    class_name = cells[2].text.strip()\n",
    "                    niveau_str = cells[3].text.strip()\n",
    "                    niveau = int(re.search(r'\\d+', niveau_str).group())\n",
    "                    sexe = cells[4].text.strip()\n",
    "                    serveur = cells[5].text.strip()\n",
    "                    guild = cells[6].text.strip() if cells[6].text.strip() else None\n",
    "                    \n",
    "                    user_link = row.find('a', href=True)\n",
    "                    user_url = user_link['href']\n",
    "                    user_url = \"https://www.dofus-touch.com\" + user_url\n",
    "                    user_response = requests.get(user_url, headers=headers)\n",
    "                    user_soup = BeautifulSoup(user_response.text, \"html.parser\")\n",
    "                    \n",
    "                    if user_soup :\n",
    "\n",
    "                        # Extracting \"lvl Guild\" int\n",
    "                        guild_level_tag = user_soup.find('span', class_='ak-infos-guildlevel')\n",
    "                        guild_level = int(guild_level_tag.text.split()[1]) if guild_level_tag else None\n",
    "\n",
    "                        # Extracting \"Alliance\" str\n",
    "                        alliance_name_tag = user_soup.find('a', class_='ak-infos-alliancename')\n",
    "                        alliance_name = alliance_name_tag.text.strip() if alliance_name_tag else None\n",
    "\n",
    "                        # Extracting \"Alignement\" str\n",
    "                        alignment_name_tag = user_soup.find('span', class_='ak-alignment-name')\n",
    "                        alignment_name = alignment_name_tag.text.strip() if alignment_name_tag else None\n",
    "\n",
    "                        # Extracting \"Total XP\" int\n",
    "                        total_xp_tag = user_soup.find('div', class_='ak-total-xp')\n",
    "                        total_xp_text = total_xp_tag.find('span').text.strip() if total_xp_tag else None\n",
    "                        total_xp = int(total_xp_text.replace(' ', '')) if total_xp_text else None\n",
    "\n",
    "                        # Extracting \"métier\" {str : int}\n",
    "                        jobs = {}\n",
    "                        job_elements = user_soup.find_all('div', class_=lambda value: value and value.startswith('ak-list-element ak-infos-job-'))\n",
    "                        for job_element in job_elements:\n",
    "                            job_name = job_element.find('div', class_='ak-title').text.strip()\n",
    "                            job_level_text = job_element.find('div', class_='ak-text').text.strip()\n",
    "                            job_level = int(re.search(r'\\d+', job_level_text).group()) if job_level_text else None\n",
    "                            jobs[job_name] = job_level\n",
    "\n",
    "                    if name not in object_list :\n",
    "                        object_list[name] = {\n",
    "                            \"class_name\" : class_name,\n",
    "                            \"niveau\" : niveau,\n",
    "                            \"sexe\" : sexe,\n",
    "                            \"serveur\" : serveur,\n",
    "                            \"guild\" : guild,\n",
    "                            \"guild_level\": guild_level,\n",
    "                            \"alliance_name\": alliance_name,\n",
    "                            \"alignment_name\": alignment_name,\n",
    "                            \"total_xp\": total_xp,\n",
    "                            \"jobs\": jobs if jobs else None\n",
    "                        }\n",
    "\n",
    "                    print(f\"name : {name}, object_list[name] : {object_list[name]}\")\n",
    "                    break\n",
    "        return True  # Indique que la page a été analysée avec succès\n",
    "    else:\n",
    "        return False  # Indique qu'il y a eu une erreur lors de la requête"
   ]
  },
  {
   "cell_type": "code",
   "execution_count": 43,
   "metadata": {},
   "outputs": [
    {
     "name": "stdout",
     "output_type": "stream",
     "text": [
      "name : Plogeur, object_list[name] : {'class_name': 'Iop', 'niveau': 200, 'sexe': 'Mâle', 'serveur': 'Oshimo', 'guild': None, 'guild_level': None, 'alliance_name': None, 'alignment_name': None, 'total_xp': 15768555748, 'jobs': {'Joaillomage': 100, 'Mineur': 100, 'Bijoutier': 100, 'Tailleur': 65, 'Costumage': 22}}\n"
     ]
    }
   ],
   "source": [
    "object_list = {} # \"id\" = [\"Classe\" str, \"Niveau\" int, \"Sexe\" str, \"Serveur\" str, \"Guilde\" str]\n",
    "                 # [\"lvl Guild\" int, \"Alliance\" str, \"Alignement\" str, \"Total XP\" int]\n",
    "                 # [\"métier\" {str : int}]\n",
    "\n",
    "string_generator = generate_combinations(10)\n",
    "while True : #TODO TEST AT THE END OF THE GENERATION\n",
    "    name_search = next(string_generator)\n",
    "    if not name_search :\n",
    "        break\n",
    "    page=1\n",
    "    name_search=\"Plogeur\"\n",
    "    base_url =f\"https://www.dofus-touch.com/fr/mmorpg/communaute/annuaires/pages-persos?text={name_search}&page=\"\n",
    "    while True :\n",
    "        page_url = f\"{base_url}{page}\"\n",
    "        success = parse_object_page(page_url, object_list)\n",
    "        if not success:\n",
    "            break\n",
    "        page += 1\n",
    "\n",
    "        \n",
    "        break\n",
    "    break"
   ]
  },
  {
   "cell_type": "code",
   "execution_count": null,
   "metadata": {},
   "outputs": [],
   "source": [
    "print(f\"object_list : {object_list}\")"
   ]
  },
  {
   "cell_type": "code",
   "execution_count": null,
   "metadata": {},
   "outputs": [],
   "source": [
    "class_list = {\n",
    "    \"ecaflip\" : 0,\n",
    "    \"eniripsa\" : 0,\n",
    "    \"iop\" : 0,\n",
    "    \"crâ\" : 0,\n",
    "    \"féca\" : 0,\n",
    "    \"sadida\" : 0,\n",
    "    \"sacrieur\" : 0,\n",
    "    \"enutrof\" : 0,\n",
    "    \"osamodas\" : 0,\n",
    "    \"sram\" : 0,\n",
    "    \"xélor\" : 0,\n",
    "    \"pandawa\" : 0,\n",
    "    \"roublard\" : 0,\n",
    "    \"zobal\" : 0,\n",
    "    \"streamer\" : 0\n",
    "    }"
   ]
  }
 ],
 "metadata": {
  "kernelspec": {
   "display_name": "Python 3",
   "language": "python",
   "name": "python3"
  },
  "language_info": {
   "codemirror_mode": {
    "name": "ipython",
    "version": 3
   },
   "file_extension": ".py",
   "mimetype": "text/x-python",
   "name": "python",
   "nbconvert_exporter": "python",
   "pygments_lexer": "ipython3",
   "version": "3.10.11"
  }
 },
 "nbformat": 4,
 "nbformat_minor": 2
}
