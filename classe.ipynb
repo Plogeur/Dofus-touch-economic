{
 "cells": [
  {
   "cell_type": "code",
   "execution_count": 20,
   "metadata": {},
   "outputs": [],
   "source": [
    "import requests\n",
    "from bs4 import BeautifulSoup\n",
    "import string\n",
    "import time"
   ]
  },
  {
   "cell_type": "code",
   "execution_count": 17,
   "metadata": {},
   "outputs": [],
   "source": [
    "def generate_combinations(x):\n",
    "    letters = string.ascii_lowercase\n",
    "    \n",
    "    # Recursive generator function to yield combinations\n",
    "    def generate_combinations_rec(prefix, length):\n",
    "        if length == 0:\n",
    "            yield prefix\n",
    "            return\n",
    "        for char in letters:\n",
    "            new_prefix = prefix + char\n",
    "            yield from generate_combinations_rec(new_prefix, length - 1)\n",
    "    \n",
    "    # Loop through lengths from 1 to x\n",
    "    for length in range(1, x + 1):\n",
    "        yield from generate_combinations_rec('', length)"
   ]
  },
  {
   "cell_type": "code",
   "execution_count": 41,
   "metadata": {},
   "outputs": [],
   "source": [
    "def parse_object_page(url, object_list):\n",
    "    \"\"\"\n",
    "    Fonction pour parser une page contenant des informations sur un type d'objet.\n",
    "    \"\"\"\n",
    "    headers = {\n",
    "        'User-Agent': 'Mozilla/5.0 (Windows NT 10.0; Win64; x64) AppleWebKit/537.36 (KHTML, like Gecko) Safari/537.3'}\n",
    "\n",
    "    response = requests.get(url, headers=headers)\n",
    "\n",
    "    if response.status_code == 200 :\n",
    "        soup = BeautifulSoup(response.text, \"html.parser\")\n",
    "        table = soup.find('table', class_='ak-table ak-responsivetable')\n",
    "        if table:\n",
    "            for row in table.find_all(\"tr\")[1:]:\n",
    "                cells = row.find_all(\"td\")\n",
    "                if cells:  # Ensure the row is not empty\n",
    "                    name = cells[1].text.strip()\n",
    "                    class_name = cells[2].text.strip()\n",
    "                    niveau = cells[3].text.strip()\n",
    "                    sexe = cells[4].text.strip()\n",
    "                    serveur = cells[5].text.strip()\n",
    "                    guild = cells[6].text.strip()\n",
    "                    \n",
    "                    name_element = row.find(\"td\").find(\"a\")\n",
    "                    name = name_element.text.strip()\n",
    "                    href = name_element['href']\n",
    "                    recipe_url = \"https://www.dofus-touch.com\" + href\n",
    "                    recipe_response = requests.get(recipe_url, headers=headers)\n",
    "                    recipe_soup = BeautifulSoup(recipe_response.text, \"html.parser\")\n",
    "                    if recipe_soup :\n",
    "                        recipe_elements = recipe_soup.find_all(class_='ak-column ak-container col-xs-12 col-sm-6')\n",
    "                        \n",
    "                    print(f\"name : {name, [class_name, niveau, sexe, serveur, guild]}\")\n",
    "                if name not in object_list :\n",
    "                    object_list[name] = [class_name, niveau, sexe, serveur, guild]\n",
    "\n",
    "        return True  # Indique que la page a été analysée avec succès\n",
    "    else:\n",
    "        return False  # Indique qu'il y a eu une erreur lors de la requête"
   ]
  },
  {
   "cell_type": "code",
   "execution_count": 48,
   "metadata": {},
   "outputs": [
    {
     "name": "stdout",
     "output_type": "stream",
     "text": [
      "base_url : https://www.dofus-touch.com/fr/mmorpg/communaute/annuaires/pages-persos?text=&page=\n",
      "object_list : {}\n"
     ]
    }
   ],
   "source": [
    "object_list = {} # \"id\" = [\"Classe\" str, \"Niveau\" int, \"Sexe\" str, \"Serveur\" str, \"Guilde\" str]\n",
    "                 # [\"lvl Guild\" int, \"Alliance\" str, \"Alignement\" str, \"Total XP\" int]\n",
    "                 # [\"Cote Kolizeum\" int, \"Score Succès\" int, \"métier\" {str : int}]\n",
    "\n",
    "string_generator = generate_combinations(10)\n",
    "while True : #TODO TEST AT THE END OF THE GENERATION\n",
    "    name_search = next(string_generator)\n",
    "    if not name_search :\n",
    "        break\n",
    "    page=1\n",
    "    base_url =f\"https://www.dofus-touch.com/fr/mmorpg/communaute/annuaires/pages-persos?text={name_search}&page=\"\n",
    "    print(f\"base_url : {base_url}\")\n",
    "    while True :\n",
    "        page_url = f\"{base_url}{page}\"\n",
    "        success = parse_object_page(page_url, object_list)\n",
    "        if not success:\n",
    "            break\n",
    "        page += 1"
   ]
  },
  {
   "cell_type": "code",
   "execution_count": null,
   "metadata": {},
   "outputs": [],
   "source": [
    "print(f\"object_list : {object_list}\")"
   ]
  },
  {
   "cell_type": "code",
   "execution_count": null,
   "metadata": {},
   "outputs": [],
   "source": [
    "class_list = {\n",
    "    \"ecaflip\" : 0,\n",
    "    \"eniripsa\" : 0,\n",
    "    \"iop\" : 0,\n",
    "    \"crâ\" : 0,\n",
    "    \"féca\" : 0,\n",
    "    \"sadida\" : 0,\n",
    "    \"sacrieur\" : 0,\n",
    "    \"enutrof\" : 0,\n",
    "    \"osamodas\" : 0,\n",
    "    \"sram\" : 0,\n",
    "    \"xélor\" : 0,\n",
    "    \"pandawa\" : 0,\n",
    "    \"roublard\" : 0,\n",
    "    \"zobal\" : 0,\n",
    "    \"streamer\" : 0\n",
    "    }"
   ]
  }
 ],
 "metadata": {
  "kernelspec": {
   "display_name": "Python 3",
   "language": "python",
   "name": "python3"
  },
  "language_info": {
   "codemirror_mode": {
    "name": "ipython",
    "version": 3
   },
   "file_extension": ".py",
   "mimetype": "text/x-python",
   "name": "python",
   "nbconvert_exporter": "python",
   "pygments_lexer": "ipython3",
   "version": "3.10.11"
  }
 },
 "nbformat": 4,
 "nbformat_minor": 2
}
