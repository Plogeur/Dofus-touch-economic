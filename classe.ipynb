{
 "cells": [
  {
   "cell_type": "code",
   "execution_count": 3,
   "metadata": {},
   "outputs": [],
   "source": [
    "import requests\n",
    "from bs4 import BeautifulSoup\n",
    "import time\n",
    "import re\n",
    "import string"
   ]
  },
  {
   "cell_type": "code",
   "execution_count": 4,
   "metadata": {},
   "outputs": [],
   "source": [
    "def generate_combinations(x):\n",
    "    letters = string.ascii_lowercase\n",
    "    \n",
    "    # Recursive generator function to yield combinations\n",
    "    def generate_combinations_rec(prefix, length):\n",
    "        if length == 0:\n",
    "            yield prefix\n",
    "            return\n",
    "        for char in letters:\n",
    "            new_prefix = prefix + char\n",
    "            yield from generate_combinations_rec(new_prefix, length - 1)\n",
    "    \n",
    "    # Loop through lengths from 1 to x\n",
    "    for length in range(1, x + 1):\n",
    "        yield from generate_combinations_rec('', length)"
   ]
  },
  {
   "cell_type": "code",
   "execution_count": 5,
   "metadata": {},
   "outputs": [],
   "source": [
    "def parse_object_page(url, object_list):\n",
    "    \"\"\"\n",
    "    Fonction pour parser une page contenant des informations sur un type d'objet.\n",
    "    \"\"\"\n",
    "    headers = {\n",
    "        'User-Agent': 'Mozilla/5.0 (Windows NT 10.0; Win64; x64) AppleWebKit/537.36 (KHTML, like Gecko) Safari/537.3'}\n",
    "\n",
    "    response = requests.get(url, headers=headers)\n",
    "\n",
    "    if response.status_code == 200 :\n",
    "        soup = BeautifulSoup(response.text, \"html.parser\")\n",
    "        table = soup.find('table', class_='ak-table ak-responsivetable')\n",
    "        if table:\n",
    "            for row in table.find_all(\"tr\")[1:]:\n",
    "                cells = row.find_all(\"td\")\n",
    "                if cells:  # Ensure the row is not empty\n",
    "                    time.sleep(1)\n",
    "                    name = cells[1].text.strip()\n",
    "                    class_name = cells[2].text.strip()\n",
    "                    niveau_str = cells[3].text.strip()\n",
    "                    niveau = int(re.search(r'\\d+', niveau_str).group())\n",
    "                    sexe = cells[4].text.strip()\n",
    "                    serveur = cells[5].text.strip()\n",
    "                    guild = cells[6].text.strip() if cells[6].text.strip() else None\n",
    "                    \n",
    "                    user_link = row.find('a', href=True)\n",
    "                    user_url = user_link['href']\n",
    "                    user_url = \"https://www.dofus-touch.com\" + user_url\n",
    "                    user_response = requests.get(user_url, headers=headers)\n",
    "                    user_soup = BeautifulSoup(user_response.text, \"html.parser\")\n",
    "                    \n",
    "                    if user_soup :\n",
    "\n",
    "                        # Extracting \"lvl Guild\" int\n",
    "                        guild_level_tag = user_soup.find('span', class_='ak-infos-guildlevel')\n",
    "                        guild_level = int(guild_level_tag.text.split()[1]) if guild_level_tag else None\n",
    "\n",
    "                        # Extracting \"Alliance\" str\n",
    "                        alliance_name_tag = user_soup.find('a', class_='ak-infos-alliancename')\n",
    "                        alliance_name = alliance_name_tag.text.strip() if alliance_name_tag else None\n",
    "\n",
    "                        # Extracting \"Alignement\" str\n",
    "                        alignment_name_tag = user_soup.find('span', class_='ak-alignment-name')\n",
    "                        alignment_name = alignment_name_tag.text.strip() if alignment_name_tag else None\n",
    "\n",
    "                        # Extracting \"Total XP\" int\n",
    "                        total_xp_tag = user_soup.find('div', class_='ak-total-xp')\n",
    "                        total_xp_text = total_xp_tag.find('span').text.strip() if total_xp_tag else None\n",
    "                        total_xp = int(total_xp_text.replace(' ', '')) if total_xp_text else None\n",
    "\n",
    "                        # Extracting \"métier\" {str : int}\n",
    "                        jobs = {}\n",
    "                        job_elements = user_soup.find_all('div', class_=lambda value: value and value.startswith('ak-list-element ak-infos-job-'))\n",
    "                        for job_element in job_elements:\n",
    "                            job_name = job_element.find('div', class_='ak-title').text.strip()\n",
    "                            job_level_text = job_element.find('div', class_='ak-text').text.strip()\n",
    "                            job_level = int(re.search(r'\\d+', job_level_text).group()) if job_level_text else None\n",
    "                            jobs[job_name] = job_level\n",
    "\n",
    "                    if name not in object_list :\n",
    "                        object_list[name] = {\n",
    "                            \"class_name\" : class_name,\n",
    "                            \"niveau\" : niveau,\n",
    "                            \"sexe\" : sexe,\n",
    "                            \"serveur\" : serveur,\n",
    "                            \"guild\" : guild,\n",
    "                            \"guild_level\": guild_level,\n",
    "                            \"alliance_name\": alliance_name,\n",
    "                            \"alignment_name\": alignment_name,\n",
    "                            \"total_xp\": total_xp,\n",
    "                            \"jobs\": jobs if jobs else None\n",
    "                        }\n",
    "\n",
    "                    #print(f\"name : {name}, {object_list[name]}\")\n",
    "        return True  # Indique que la page a été analysée avec succès\n",
    "    else:\n",
    "        return False  # Indique qu'il y a eu une erreur lors de la requête"
   ]
  },
  {
   "cell_type": "code",
   "execution_count": 9,
   "metadata": {},
   "outputs": [
    {
     "name": "stdout",
     "output_type": "stream",
     "text": [
      "break\n",
      "break\n",
      "no update len, actual :192\n",
      "break\n",
      "no update len, actual :192\n",
      "break\n",
      "no update len, actual :192\n",
      "break\n",
      "no update len, actual :192\n"
     ]
    }
   ],
   "source": [
    "object_list = {} # \"id\" = [\"Classe\" str, \"Niveau\" int, \"Sexe\" str, \"Serveur\" str, \"Guilde\" str]\n",
    "                 # [\"lvl Guild\" int, \"Alliance\" str, \"Alignement\" str, \"Total XP\" int]\n",
    "                 # [\"métier\" {str : int}]\n",
    "\n",
    "save_len = len(object_list)\n",
    "string_generator = generate_combinations(4)\n",
    "for name_search in string_generator:\n",
    "    page=1\n",
    "    base_url =f\"https://www.dofus-touch.com/fr/mmorpg/communaute/annuaires/pages-persos?text={name_search}&page=\"\n",
    "    while True :\n",
    "        time.sleep(5)\n",
    "        page_url = f\"{base_url}{page}\"\n",
    "        success = parse_object_page(page_url, object_list)\n",
    "        if not success:\n",
    "            print(\"break\")\n",
    "            break\n",
    "        page += 1\n",
    "    if len(object_list) == save_len :\n",
    "        print(f\"no update len, actual :{len(object_list)}\")\n",
    "    else :\n",
    "        save_len = len(object_list)"
   ]
  },
  {
   "cell_type": "code",
   "execution_count": 5,
   "metadata": {},
   "outputs": [
    {
     "name": "stdout",
     "output_type": "stream",
     "text": [
      "object_list : 229\n"
     ]
    }
   ],
   "source": [
    "print(f\"object_list : {len(object_list)}\")"
   ]
  },
  {
   "cell_type": "code",
   "execution_count": 36,
   "metadata": {},
   "outputs": [],
   "source": [
    "import csv\n",
    "\n",
    "def save_object_list_to_csv(object_list):\n",
    "    \"\"\"\n",
    "    Save the object_list to a CSV file.\n",
    "    \"\"\"\n",
    "    filename = \"classe_touch.csv\"\n",
    "\n",
    "    # Define the desired order of fieldnames\n",
    "    fieldnames = ['ID', 'class_name', 'niveau', 'sexe', 'serveur', 'guild', 'guild_level',\n",
    "                  'alliance_name', 'alignment_name', 'total_xp', 'jobs']\n",
    "\n",
    "    # Write object_list to a CSV file\n",
    "    with open(filename, mode='w', newline='', encoding='utf-8') as file:\n",
    "        writer = csv.DictWriter(file, fieldnames=fieldnames)\n",
    "        writer.writeheader()\n",
    "        for id, caract in object_list.items():\n",
    "            # Create a row dictionary with ordered keys\n",
    "            row = {'ID': id}  # Assuming 'ID' as a fieldname for the ID\n",
    "            row.update(caract)\n",
    "            # Write the row to the CSV file\n",
    "            writer.writerow({key: row[key] for key in fieldnames})\n"
   ]
  },
  {
   "cell_type": "code",
   "execution_count": 37,
   "metadata": {},
   "outputs": [],
   "source": [
    "# Call the function\n",
    "save_object_list_to_csv(object_list)"
   ]
  }
 ],
 "metadata": {
  "kernelspec": {
   "display_name": "Python 3",
   "language": "python",
   "name": "python3"
  },
  "language_info": {
   "codemirror_mode": {
    "name": "ipython",
    "version": 3
   },
   "file_extension": ".py",
   "mimetype": "text/x-python",
   "name": "python",
   "nbconvert_exporter": "python",
   "pygments_lexer": "ipython3",
   "version": "3.10.11"
  }
 },
 "nbformat": 4,
 "nbformat_minor": 2
}
