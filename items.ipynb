{
 "cells": [
  {
   "cell_type": "code",
   "execution_count": 1,
   "metadata": {},
   "outputs": [],
   "source": [
    "import requests\n",
    "from bs4 import BeautifulSoup\n",
    "import time\n",
    "import re"
   ]
  },
  {
   "cell_type": "code",
   "execution_count": 13,
   "metadata": {},
   "outputs": [],
   "source": [
    "def parse_object_page(url, object_n, object_list, base_url):\n",
    "    \"\"\"\n",
    "    Fonction pour parser une page contenant des informations sur un type d'objet.\n",
    "    \"\"\"\n",
    "    headers = {\n",
    "        'User-Agent': 'Mozilla/5.0 (Windows NT 10.0; Win64; x64) AppleWebKit/537.36 (KHTML, like Gecko) Safari/537.3'}\n",
    "    \n",
    "    response = requests.get(url, headers=headers)\n",
    "\n",
    "    if response.status_code == 200 :\n",
    "        soup = BeautifulSoup(response.text, \"html.parser\")\n",
    "        table = soup.find('table', class_='ak-table ak-responsivetable')\n",
    "        if table:\n",
    "            for row in table.find_all(\"tr\")[1:]:\n",
    "                recipe = []\n",
    "                caracteristics = []\n",
    "                effects = []\n",
    "                time.sleep(1)\n",
    "                \n",
    "                name_element = row.find(\"td\").find(\"a\")\n",
    "                name = name_element.text.strip()\n",
    "                href = name_element['href']\n",
    "\n",
    "                if object_n in [\"equipements\", \"armes\", \"consommables\"] :\n",
    "\n",
    "                    recipe_url = base_url + href\n",
    "                    recipe_response = requests.get(recipe_url, headers=headers)\n",
    "                    while recipe_response.status_code == 403 : # bloqued script\n",
    "                        time.sleep(10)\n",
    "                        recipe_response = requests.get(recipe_url, headers=headers)\n",
    "\n",
    "                    recipe_soup = BeautifulSoup(recipe_response.text, \"html.parser\")\n",
    "                    recipe_elements = recipe_soup.find_all(class_='ak-column ak-container col-xs-12 col-sm-6')\n",
    "\n",
    "                    # Recipe elements\n",
    "                    for element in recipe_elements:\n",
    "                        span_elements = element.find_all('span', class_='ak-linker')\n",
    "                        for span in span_elements:\n",
    "                            text = span.text.strip()\n",
    "                            if text != '':\n",
    "                                recipe.append(text)\n",
    "                    \n",
    "                    # Properties elements\n",
    "                    if object_n in [\"equipements\", \"armes\"] :\n",
    "                        ak_contents  = recipe_soup.find_all(\"div\", class_=\"col-sm-6\")\n",
    "                        for ak_content in ak_contents:\n",
    "                            panel_titles = ak_content.find_all(class_=\"ak-panel-title\")\n",
    "\n",
    "                            if any(\"Caractéristiques\" in panel_title.text for panel_title in panel_titles):\n",
    "                                ak_titles = ak_content.find_all(\"div\", class_=\"ak-title\")\n",
    "                                if ak_titles:\n",
    "                                    for ak_title in ak_titles:\n",
    "                                        text = ak_title.get_text(strip=True)\n",
    "                                        caracteristics.append(text)\n",
    "                            \n",
    "                            if any(\"Effets\" in panel_title.text for panel_title in panel_titles):\n",
    "                                ak_titles = ak_content.find_all(\"div\", class_=\"ak-title\")\n",
    "                                if ak_titles:\n",
    "                                    for ak_title in ak_titles:\n",
    "                                        text = ak_title.get_text(strip=True)\n",
    "                                        effects.append(text)\n",
    "                            \n",
    "                            if any(\"Conditions\" in panel_title.text for panel_title in panel_titles):\n",
    "                                break\n",
    "\n",
    "                name = row.find(\"td\").find(\"img\")['alt'].strip()\n",
    "                type_ = row.find(\"td\", class_=\"item-type\").text.strip()\n",
    "                level_str = row.find(\"td\", class_=\"item-level\").text.strip()\n",
    "                level = int(re.search(r'\\d+', level_str).group())\n",
    "\n",
    "                object_info = {\n",
    "                    \"name\": name,\n",
    "                    \"type\": type_,\n",
    "                    \"level\": level\n",
    "                }\n",
    "\n",
    "                if object_n in [\"equipements\", \"armes\", \"consommables\"] :\n",
    "                    object_info[\"recipe\"] = recipe\n",
    "                    if object_n in [\"equipements\", \"armes\"] :\n",
    "                        object_info[\"caracteristic\"] = caracteristics\n",
    "                        object_info[\"effect\"] = effects\n",
    "\n",
    "                object_list.append(object_info)\n",
    "            return True  # Indique que la page a été analysée avec succès\n",
    "    else:\n",
    "        return False  # Indique qu'il y a eu une erreur lors de la requête"
   ]
  },
  {
   "cell_type": "code",
   "execution_count": 3,
   "metadata": {},
   "outputs": [],
   "source": [
    "def counter_page(url, object_name) :\n",
    "    headers = {\n",
    "        'User-Agent': 'Mozilla/5.0 (Windows NT 10.0; Win64; x64) AppleWebKit/537.36 (KHTML, like Gecko) Safari/537.3'}\n",
    "    \n",
    "    response = requests.get(url, headers=headers)\n",
    "\n",
    "    while response.status_code != 200 :\n",
    "        time.sleep(10)\n",
    "        response = requests.get(url, headers=headers)\n",
    "\n",
    "    # Parse the HTML\n",
    "    soup = BeautifulSoup(response.text, \"html.parser\")\n",
    "\n",
    "    # Find all <a> tags with href containing '/fr/mmorpg/encyclopedie/armes?page='\n",
    "    url_object = f\"/fr/mmorpg/encyclopedie/{object_name}\\?page=\\d+\"\n",
    "    links = soup.find_all('a', href=re.compile(url_object))\n",
    "\n",
    "    # Extract numbers from the links\n",
    "    numbers = [link.text.strip() for link in links if link.text.strip().isdigit()]\n",
    "    last_pages = int(numbers[-1])\n",
    "    return last_pages"
   ]
  },
  {
   "cell_type": "code",
   "execution_count": 4,
   "metadata": {},
   "outputs": [],
   "source": [
    "def url_parser(base_url) :\n",
    "    encyclopedia_url = base_url + \"/fr/mmorpg/encyclopedie\"\n",
    "\n",
    "    objects = {\n",
    "        \"armes\": [],\n",
    "        \"equipements\": [],\n",
    "        \"consommables\": [],\n",
    "        \"ressources\": []\n",
    "    }\n",
    "\n",
    "    for object_name, object_list in objects.items():\n",
    "        time.sleep(2)\n",
    "        url = f\"{encyclopedia_url}/{object_name}?page=\"\n",
    "        nb_page = counter_page(url, object_name)\n",
    "        for page in range(1, nb_page) :\n",
    "            page_url = f\"{url}{page}\"\n",
    "            success = parse_object_page(page_url, object_name, object_list, base_url)\n",
    "            while success == False :\n",
    "                time.sleep(10)\n",
    "                success = parse_object_page(page_url, object_name, object_list, base_url)\n",
    "        print(f\"{len(object_list)} {object_name} find\")\n",
    "    \n",
    "    return objects"
   ]
  },
  {
   "cell_type": "code",
   "execution_count": 14,
   "metadata": {},
   "outputs": [
    {
     "name": "stdout",
     "output_type": "stream",
     "text": [
      "erreur 403 : https://www.dofus-touch.com/fr/mmorpg/encyclopedie/armes/8293-hache-dragoeuf\n",
      "erreur 403 : https://www.dofus-touch.com/fr/mmorpg/encyclopedie/armes/8293-hache-dragoeuf\n",
      "erreur 403 : https://www.dofus-touch.com/fr/mmorpg/encyclopedie/armes/8293-hache-dragoeuf\n",
      "erreur 403 : https://www.dofus-touch.com/fr/mmorpg/encyclopedie/armes/8293-hache-dragoeuf\n",
      "erreur 403 : https://www.dofus-touch.com/fr/mmorpg/encyclopedie/armes/8293-hache-dragoeuf\n",
      "erreur 403 : https://www.dofus-touch.com/fr/mmorpg/encyclopedie/armes/8293-hache-dragoeuf\n",
      "erreur 403 : https://www.dofus-touch.com/fr/mmorpg/encyclopedie/armes/8293-hache-dragoeuf\n",
      "erreur 403 : https://www.dofus-touch.com/fr/mmorpg/encyclopedie/armes/2600-coupeuse-sifflet\n",
      "erreur 403 : https://www.dofus-touch.com/fr/mmorpg/encyclopedie/armes/2600-coupeuse-sifflet\n",
      "erreur 403 : https://www.dofus-touch.com/fr/mmorpg/encyclopedie/armes/2600-coupeuse-sifflet\n",
      "erreur 403 : https://www.dofus-touch.com/fr/mmorpg/encyclopedie/armes/2600-coupeuse-sifflet\n",
      "erreur 403 : https://www.dofus-touch.com/fr/mmorpg/encyclopedie/armes/2600-coupeuse-sifflet\n",
      "erreur 403 : https://www.dofus-touch.com/fr/mmorpg/encyclopedie/armes/2600-coupeuse-sifflet\n",
      "erreur 403 : https://www.dofus-touch.com/fr/mmorpg/encyclopedie/armes/1475-zulie-lame\n",
      "erreur 403 : https://www.dofus-touch.com/fr/mmorpg/encyclopedie/armes/1475-zulie-lame\n",
      "erreur 403 : https://www.dofus-touch.com/fr/mmorpg/encyclopedie/armes/1357-daguette\n",
      "erreur 403 : https://www.dofus-touch.com/fr/mmorpg/encyclopedie/armes/1357-daguette\n",
      "erreur 403 : https://www.dofus-touch.com/fr/mmorpg/encyclopedie/armes/1357-daguette\n",
      "erreur 403 : https://www.dofus-touch.com/fr/mmorpg/encyclopedie/armes/1357-daguette\n",
      "erreur 403 : https://www.dofus-touch.com/fr/mmorpg/encyclopedie/armes/1357-daguette\n",
      "erreur 403 : https://www.dofus-touch.com/fr/mmorpg/encyclopedie/armes/1357-daguette\n",
      "erreur 403 : https://www.dofus-touch.com/fr/mmorpg/encyclopedie/armes/1939-lance-chasse\n",
      "erreur 403 : https://www.dofus-touch.com/fr/mmorpg/encyclopedie/armes/1939-lance-chasse\n",
      "erreur 403 : https://www.dofus-touch.com/fr/mmorpg/encyclopedie/armes/1939-lance-chasse\n",
      "erreur 403 : https://www.dofus-touch.com/fr/mmorpg/encyclopedie/armes/1939-lance-chasse\n",
      "erreur 403 : https://www.dofus-touch.com/fr/mmorpg/encyclopedie/armes/1939-lance-chasse\n",
      "720 armes find\n",
      "erreur 403 : https://www.dofus-touch.com/fr/mmorpg/encyclopedie/equipements/11720-amulette-glourseleste\n",
      "erreur 403 : https://www.dofus-touch.com/fr/mmorpg/encyclopedie/equipements/11720-amulette-glourseleste\n",
      "erreur 403 : https://www.dofus-touch.com/fr/mmorpg/encyclopedie/equipements/11720-amulette-glourseleste\n",
      "erreur 403 : https://www.dofus-touch.com/fr/mmorpg/encyclopedie/equipements/11473-frimature\n",
      "erreur 403 : https://www.dofus-touch.com/fr/mmorpg/encyclopedie/equipements/11473-frimature\n",
      "erreur 403 : https://www.dofus-touch.com/fr/mmorpg/encyclopedie/equipements/11473-frimature\n",
      "erreur 403 : https://www.dofus-touch.com/fr/mmorpg/encyclopedie/equipements/11713-amulette-korriandre\n",
      "erreur 403 : https://www.dofus-touch.com/fr/mmorpg/encyclopedie/equipements/11713-amulette-korriandre\n",
      "erreur 403 : https://www.dofus-touch.com/fr/mmorpg/encyclopedie/equipements/11713-amulette-korriandre\n",
      "erreur 403 : https://www.dofus-touch.com/fr/mmorpg/encyclopedie/equipements/7680-ougalurette\n",
      "erreur 403 : https://www.dofus-touch.com/fr/mmorpg/encyclopedie/equipements/7680-ougalurette\n",
      "erreur 403 : https://www.dofus-touch.com/fr/mmorpg/encyclopedie/equipements/8818-cape-souveraine-roissingue\n",
      "erreur 403 : https://www.dofus-touch.com/fr/mmorpg/encyclopedie/equipements/8818-cape-souveraine-roissingue\n",
      "erreur 403 : https://www.dofus-touch.com/fr/mmorpg/encyclopedie/equipements/8818-cape-souveraine-roissingue\n",
      "erreur 403 : https://www.dofus-touch.com/fr/mmorpg/encyclopedie/equipements/12685-cuirasse-neutre-majeur\n",
      "erreur 403 : https://www.dofus-touch.com/fr/mmorpg/encyclopedie/equipements/12685-cuirasse-neutre-majeur\n",
      "erreur 403 : https://www.dofus-touch.com/fr/mmorpg/encyclopedie/equipements/12685-cuirasse-neutre-majeur\n",
      "erreur 403 : https://www.dofus-touch.com/fr/mmorpg/encyclopedie/equipements/12085-anneau-moutheur\n",
      "erreur 403 : https://www.dofus-touch.com/fr/mmorpg/encyclopedie/equipements/12085-anneau-moutheur\n",
      "erreur 403 : https://www.dofus-touch.com/fr/mmorpg/encyclopedie/equipements/12085-anneau-moutheur\n",
      "erreur 403 : https://www.dofus-touch.com/fr/mmorpg/encyclopedie/equipements/12085-anneau-moutheur\n"
     ]
    }
   ],
   "source": [
    "base_url = \"https://www.dofus-touch.com\" # replace here to dofus in order to change the url\n",
    "objects_touch = url_parser(base_url)"
   ]
  },
  {
   "cell_type": "code",
   "execution_count": 7,
   "metadata": {},
   "outputs": [
    {
     "ename": "NameError",
     "evalue": "name 'objects_touch' is not defined",
     "output_type": "error",
     "traceback": [
      "\u001b[1;31m---------------------------------------------------------------------------\u001b[0m",
      "\u001b[1;31mNameError\u001b[0m                                 Traceback (most recent call last)",
      "Cell \u001b[1;32mIn[7], line 1\u001b[0m\n\u001b[1;32m----> 1\u001b[0m \u001b[38;5;28mprint\u001b[39m(\u001b[43mobjects_touch\u001b[49m[\u001b[38;5;124m\"\u001b[39m\u001b[38;5;124marmes\u001b[39m\u001b[38;5;124m\"\u001b[39m])\n\u001b[0;32m      2\u001b[0m \u001b[38;5;66;03m##print(objects_touch[\"equipements\"][0])\u001b[39;00m\n\u001b[0;32m      3\u001b[0m \u001b[38;5;66;03m#print(objects_touch[\"consommables\"][0])\u001b[39;00m\n\u001b[0;32m      4\u001b[0m \u001b[38;5;66;03m#print(objects_touch[\"ressources\"][0])\u001b[39;00m\n",
      "\u001b[1;31mNameError\u001b[0m: name 'objects_touch' is not defined"
     ]
    }
   ],
   "source": [
    "print(objects_touch[\"armes\"][0])\n",
    "print(objects_touch[\"equipements\"][0])\n",
    "print(objects_touch[\"consommables\"][0])\n",
    "print(objects_touch[\"ressources\"][0])"
   ]
  },
  {
   "cell_type": "code",
   "execution_count": 34,
   "metadata": {},
   "outputs": [],
   "source": [
    "import csv \n",
    "\n",
    "def save_object_list_to_csv(object_list, filename):\n",
    "    \"\"\"\n",
    "    Create and save the object_list to a CSV file.\n",
    "    \"\"\"\n",
    "    # Define the fieldnames based on the keys in the dictionaries in object_list\n",
    "    fieldnames = object_list[0].keys()\n",
    "\n",
    "    # Write object_list to a CSV file\n",
    "    with open(filename, mode='w', newline='', encoding='utf-8') as file:\n",
    "        writer = csv.DictWriter(file, fieldnames=fieldnames)\n",
    "        writer.writeheader()\n",
    "        for obj in object_list:\n",
    "            writer.writerow(obj)\n",
    "\n",
    "def save_objects(objects) :\n",
    "    # Assuming object_list is a dictionary where keys are object types and values are lists of objects\n",
    "    for object_name, object_list in objects.items():\n",
    "\n",
    "        filename = f\"touch_{object_name}.csv\"\n",
    "        # Save the object list to the CSV file\n",
    "        save_object_list_to_csv(object_list, filename)\n",
    "\n",
    "save_objects(objects_touch)"
   ]
  },
  {
   "cell_type": "code",
   "execution_count": 2,
   "metadata": {},
   "outputs": [],
   "source": [
    "import csv\n",
    "import ast\n",
    "\n",
    "def read_csv_file(filename):\n",
    "    data = []  # List to store dictionaries for each row\n",
    "    with open(filename, 'r', newline='', encoding='utf-8') as csvfile:\n",
    "        reader = csv.DictReader(csvfile)  # Using DictReader to directly read rows into dictionaries\n",
    "        for row in reader:\n",
    "            # Convert the recipe string into a list\n",
    "            try :\n",
    "                row['recipe'] = ast.literal_eval(row['recipe'])\n",
    "            except :\n",
    "                pass\n",
    "\n",
    "            for key, value in row.items():\n",
    "\n",
    "                if isinstance(value, str):  # Check if the value is a string\n",
    "                    row[key] = value.replace(\"'\", \" \")\n",
    "                elif isinstance(value, list):  # Check if the value is a list\n",
    "                    row[key] = [element.replace(\"'\", \" \") for element in value]\n",
    "                    \n",
    "            data.append(row)\n",
    "    return data"
   ]
  },
  {
   "cell_type": "code",
   "execution_count": null,
   "metadata": {},
   "outputs": [],
   "source": [
    "objects_touch = {\n",
    "    \"armes\": [],\n",
    "    \"equipements\": [],\n",
    "    \"consommables\": [],\n",
    "    \"ressources\": []\n",
    "}\n",
    "\n",
    "for object_name, object_list in objects_touch.items():\n",
    "    object_list.extend(read_csv_file(f\"data/touch_{object_name}.csv\"))"
   ]
  },
  {
   "cell_type": "code",
   "execution_count": 11,
   "metadata": {},
   "outputs": [
    {
     "ename": "TypeError",
     "evalue": "isinstance() arg 2 must be a type, a tuple of types, or a union",
     "output_type": "error",
     "traceback": [
      "\u001b[1;31m---------------------------------------------------------------------------\u001b[0m",
      "\u001b[1;31mTypeError\u001b[0m                                 Traceback (most recent call last)",
      "Cell \u001b[1;32mIn[11], line 9\u001b[0m\n\u001b[0;32m      1\u001b[0m objects_pc \u001b[38;5;241m=\u001b[39m {\n\u001b[0;32m      2\u001b[0m     \u001b[38;5;124m\"\u001b[39m\u001b[38;5;124marmes\u001b[39m\u001b[38;5;124m\"\u001b[39m: [],\n\u001b[0;32m      3\u001b[0m     \u001b[38;5;124m\"\u001b[39m\u001b[38;5;124mequipements\u001b[39m\u001b[38;5;124m\"\u001b[39m: [],\n\u001b[0;32m      4\u001b[0m     \u001b[38;5;124m\"\u001b[39m\u001b[38;5;124mconsommables\u001b[39m\u001b[38;5;124m\"\u001b[39m: [],\n\u001b[0;32m      5\u001b[0m     \u001b[38;5;124m\"\u001b[39m\u001b[38;5;124mressources\u001b[39m\u001b[38;5;124m\"\u001b[39m: []\n\u001b[0;32m      6\u001b[0m }\n\u001b[0;32m      8\u001b[0m \u001b[38;5;28;01mfor\u001b[39;00m object_name, object_list \u001b[38;5;129;01min\u001b[39;00m objects_pc\u001b[38;5;241m.\u001b[39mitems():\n\u001b[1;32m----> 9\u001b[0m     object_list\u001b[38;5;241m.\u001b[39mextend(\u001b[43mread_csv_file\u001b[49m\u001b[43m(\u001b[49m\u001b[38;5;124;43mf\u001b[39;49m\u001b[38;5;124;43m\"\u001b[39;49m\u001b[38;5;124;43mdata/pc_\u001b[39;49m\u001b[38;5;132;43;01m{\u001b[39;49;00m\u001b[43mobject_name\u001b[49m\u001b[38;5;132;43;01m}\u001b[39;49;00m\u001b[38;5;124;43m.csv\u001b[39;49m\u001b[38;5;124;43m\"\u001b[39;49m\u001b[43m)\u001b[49m)\n",
      "Cell \u001b[1;32mIn[8], line 16\u001b[0m, in \u001b[0;36mread_csv_file\u001b[1;34m(filename)\u001b[0m\n\u001b[0;32m     13\u001b[0m     \u001b[38;5;28;01mpass\u001b[39;00m\n\u001b[0;32m     15\u001b[0m \u001b[38;5;28;01mfor\u001b[39;00m key, value \u001b[38;5;129;01min\u001b[39;00m row\u001b[38;5;241m.\u001b[39mitems():\n\u001b[1;32m---> 16\u001b[0m     \u001b[38;5;28;01mif\u001b[39;00m \u001b[38;5;28;43misinstance\u001b[39;49m\u001b[43m(\u001b[49m\u001b[43mvalue\u001b[49m\u001b[43m,\u001b[49m\u001b[43m \u001b[49m\u001b[38;5;28;43mstr\u001b[39;49m\u001b[43m)\u001b[49m:  \u001b[38;5;66;03m# Check if the value is a string\u001b[39;00m\n\u001b[0;32m     17\u001b[0m         row[key] \u001b[38;5;241m=\u001b[39m value\u001b[38;5;241m.\u001b[39mreplace(\u001b[38;5;124m\"\u001b[39m\u001b[38;5;124m'\u001b[39m\u001b[38;5;124m\"\u001b[39m, \u001b[38;5;124m\"\u001b[39m\u001b[38;5;124m \u001b[39m\u001b[38;5;124m\"\u001b[39m)\n\u001b[0;32m     18\u001b[0m     \u001b[38;5;28;01melif\u001b[39;00m \u001b[38;5;28misinstance\u001b[39m(value, \u001b[38;5;28mlist\u001b[39m):  \u001b[38;5;66;03m# Check if the value is a list\u001b[39;00m\n",
      "\u001b[1;31mTypeError\u001b[0m: isinstance() arg 2 must be a type, a tuple of types, or a union"
     ]
    }
   ],
   "source": [
    "objects_pc = {\n",
    "    \"armes\": [],\n",
    "    \"equipements\": [],\n",
    "    \"consommables\": [],\n",
    "    \"ressources\": []\n",
    "}\n",
    "\n",
    "for object_name, object_list in objects_pc.items():\n",
    "    object_list.extend(read_csv_file(f\"data/pc_{object_name}.csv\"))"
   ]
  },
  {
   "cell_type": "code",
   "execution_count": 98,
   "metadata": {},
   "outputs": [],
   "source": [
    "import matplotlib.pyplot as plt\n",
    "\n",
    "def calculate_occurrences(lst):\n",
    "    occurrences = {}\n",
    "    total_frequency = len(lst)\n",
    "    for item in lst:\n",
    "        occurrences[item] = occurrences.get(item, 0) + 1 / total_frequency\n",
    "    return occurrences\n",
    "\n",
    "def plot_occurrence_difference(occurrences1, occurrences2):\n",
    "    differences = {}\n",
    "    all_keys = set(occurrences1.keys()).union(occurrences2.keys())\n",
    "    for key in all_keys:\n",
    "        difference = (occurrences1.get(key, 0) - occurrences2.get(key, 0)) * 100\n",
    "        differences[key] = difference\n",
    "        \n",
    "    # Plotting\n",
    "    plt.figure(figsize=(16, 10))  # Augmenter la taille de la figure\n",
    "    plt.bar(differences.keys(), differences.values())\n",
    "    plt.xlabel('Niveaux')\n",
    "    plt.ylabel('Fréquences (%)')\n",
    "    plt.title('Différence des occurrences divisé par leur ratio respectif en fonction du niveaux')\n",
    "    plt.xticks(rotation=45)\n",
    "    plt.show()"
   ]
  },
  {
   "cell_type": "code",
   "execution_count": 24,
   "metadata": {},
   "outputs": [
    {
     "name": "stdout",
     "output_type": "stream",
     "text": [
      "[{'name': 'Hache Ériphe', 'type': 'Hache', 'level': '200', 'recipe': ['Galet acajou', 'Etoffe de Cuirassé', 'Bec de Strigide', 'Œil de verre', 'Essence de Glourséleste', 'Graisse d Archillusion', 'Écharpe de Hanshi', 'Bracelet d Ino-Naru'], 'caracteristic': '[ PA :5 (1 utilisation par tour) ,  Portée :1 ,  CC :15% (+8) ,  Force > 349 etAgilité de base > 349 ]', 'effect': '[ 15 à 19 (dommages Neutre) ,  21 à 27 (dommages Air) ,  8 à 11 (vol Terre) ,  201 à 250 Vitalité ,  41 à 60 Force ,  41 à 60 Agilité ,  4 à 5% Coups Critiques ,  1 PO ,  -301 à 400 Initiative ,  11 à 15 Prospection ,  14 à 18 Dommages Neutre ,  14 à 18 Dommages Terre ,  14 à 18 Dommages Air ,  7 à 10 % Résistance Neutre ,  7 à 10 % Résistance Air ,  7 à 10 Fuite ,  16 à 20 Dommages Poussée ]'}, {'name': 'Sceptre du Shushuverain', 'type': 'Baguette', 'level': '200', 'recipe': ['Etoffe de Kolosso', 'Galet brasillant', 'Sang d Armutin', 'Poil d aisselle de Missiz Frizz', 'Culotte de Missiz Frizz', 'Tourmaline', 'Orbe irisé', 'Andésite'], 'caracteristic': '[ PA :4 (1 utilisation par tour) ,  Portée :2 à 6 ,  CC :0% ]', 'effect': '[ 25 à 30 (dommages Air) ,  12 à 14 (dommages Eau) ,  12 à 14 (dommages Eau) ,  301 à 350 Vitalité ,  51 à 70 Agilité ,  51 à 70 Chance ,  31 à 40 Sagesse ,  11 à 15 Résistance Critiques ,  11 à 15 Prospection ,  7 à 10 Fuite ,  7 à 10 % Résistance Terre ,  5 à 7 Retrait PA ,  -10% Coups Critiques ,  1 PO ]'}, {'name': 'Harpelle', 'type': 'Pelle', 'level': '200', 'recipe': ['Etoffe givrée', 'Astragale de Brikoléreux', 'Tourmaline', 'Orbe irisé', 'Andésite', 'Bourgeon explosif de Damadrya', 'Tige de Bambouto', 'Bracelet d Ino-Naru'], 'caracteristic': '[ PA :4 (1 utilisation par tour) ,  Portée :1 ,  CC :20% (+8) ]', 'effect': '[ 21 à 25 (dommages Feu) ,  21 à 25 (dommages Feu) ,  301 à 400 Vitalité ,  61 à 80 Intelligence ,  31 à 50 Sagesse ,  11 à 15 Tacle ,  6 à 8 Dommages Feu ,  5 à 7 % Résistance Neutre ,  3 à 5 % Résistance Eau ,  11 à 15 Soins ,  2 à 3% Coups Critiques ]'}, {'name': 'Marteau Submergé', 'type': 'Marteau', 'level': '200', 'recipe': ['Galet brasillant', 'Moustache de Klime', 'Molaire de Ventrublion', 'Broderie de Nileza', 'Tourmaline', 'Orbe irisé', 'Andésite', 'Peau sale du Roi Skaille'], 'caracteristic': '[ PA :5 (1 utilisation par tour) ,  Portée :1 ,  CC :20% (+12) ,  Agilité de base > 450 etIntelligence de base > 450 ]', 'effect': '[ 31 à 35 (dommages Air) ,  31 à 35 (dommages Feu) ,  3 à 4% Coups Critiques ,  1 Invocations ,  301 à 350 Vitalité ,  41 à 60 Agilité ,  41 à 60 Intelligence ,  11 à 15 Résistance Air ,  31 à 40 Sagesse ,  11 à 15 Prospection ,  11 à 15 Dommages Feu ,  11 à 15 Dommages Air ,  7 à 10 % Résistance Terre ,  7 à 10 Esquive PA ]'}, {'name': 'Arc de Koutoulou', 'type': 'Arc', 'level': '200', 'recipe': ['Pointe osseuse de Grasmera', 'Aile de Gouleton', 'Goulobule rouge', 'Poil de Délégoule', 'Tourmaline', 'Orbe irisé', 'Andésite', 'Chitine de Pandogorgo'], 'caracteristic': '[ PA :4 (1 utilisation par tour) ,  Portée :4 à 7 ,  CC :15% (+10) ]', 'effect': '[ 301 à 400 Initiative ,  351 à 400 Vitalité ,  61 à 80 Force ,  11 à 15 Résistance Critiques ,  21 à 30 Sagesse ,  16 à 20 Dommages Terre ,  5 à 7 % Résistance Eau ,  5 à 7 % Résistance Feu ,  -7 à 10 Esquive PA ,  3 à 4% Coups Critiques ,  36 à 45 (dommages Terre) ,  5 à 7 Fuite ,  5 à 8 Esquive PM ]'}]\n"
     ]
    }
   ],
   "source": [
    "print(objects_touch[\"armes\"][0:5])"
   ]
  },
  {
   "cell_type": "code",
   "execution_count": 42,
   "metadata": {},
   "outputs": [],
   "source": [
    "from collections import defaultdict\n",
    "\n",
    "def create_dic_lvl_by_type(str_item):\n",
    "\n",
    "    # List of characteristics to check for\n",
    "    characteristics = [\"Force\", \"Agilité\", \"Chance\", \"Intelligence\", \"Puissance\"]\n",
    "\n",
    "    # Initialize dictionary to store frequency of characteristics by level\n",
    "    frequency_by_level = defaultdict(lambda: defaultdict(int))\n",
    "\n",
    "    # Iterate over input data\n",
    "    for item in objects_touch[str_item]:\n",
    "        level = item['level']\n",
    "        effect = item['effect']\n",
    "        for characteristic in characteristics:\n",
    "            if characteristic in effect:\n",
    "                frequency_by_level[level][characteristic] += 1\n",
    "\n",
    "    return characteristics, dict(frequency_by_level)"
   ]
  },
  {
   "cell_type": "code",
   "execution_count": 43,
   "metadata": {},
   "outputs": [
    {
     "name": "stdout",
     "output_type": "stream",
     "text": [
      "{'200': defaultdict(<class 'int'>, {'Force': 15, 'Agilité': 13, 'Chance': 13, 'Intelligence': 15, 'Puissance': 6}), '199': defaultdict(<class 'int'>, {'Chance': 2, 'Intelligence': 2}), '198': defaultdict(<class 'int'>, {'Intelligence': 1, 'Agilité': 1, 'Chance': 1, 'Puissance': 1}), '197': defaultdict(<class 'int'>, {'Force': 2, 'Agilité': 3, 'Intelligence': 2, 'Chance': 1}), '196': defaultdict(<class 'int'>, {'Agilité': 2, 'Force': 1, 'Intelligence': 2, 'Chance': 1}), '195': defaultdict(<class 'int'>, {'Force': 1, 'Intelligence': 2, 'Puissance': 1, 'Agilité': 1, 'Chance': 1}), '194': defaultdict(<class 'int'>, {'Puissance': 1, 'Force': 2, 'Agilité': 1, 'Chance': 2, 'Intelligence': 2}), '193': defaultdict(<class 'int'>, {'Chance': 1, 'Intelligence': 1}), '192': defaultdict(<class 'int'>, {'Chance': 2, 'Force': 1, 'Agilité': 1}), '191': defaultdict(<class 'int'>, {'Force': 2, 'Chance': 3, 'Intelligence': 2}), '190': defaultdict(<class 'int'>, {'Force': 1, 'Intelligence': 1, 'Puissance': 1}), '188': defaultdict(<class 'int'>, {'Agilité': 2, 'Chance': 1}), '187': defaultdict(<class 'int'>, {'Agilité': 3, 'Puissance': 1, 'Intelligence': 1}), '186': defaultdict(<class 'int'>, {'Intelligence': 1}), '185': defaultdict(<class 'int'>, {'Agilité': 2, 'Intelligence': 2}), '184': defaultdict(<class 'int'>, {'Force': 1, 'Intelligence': 2, 'Agilité': 2, 'Puissance': 2, 'Chance': 1}), '183': defaultdict(<class 'int'>, {'Chance': 1, 'Force': 1, 'Intelligence': 1}), '182': defaultdict(<class 'int'>, {'Chance': 2, 'Intelligence': 1, 'Puissance': 1, 'Force': 1, 'Agilité': 1}), '181': defaultdict(<class 'int'>, {'Force': 1, 'Agilité': 1, 'Intelligence': 1}), '180': defaultdict(<class 'int'>, {'Puissance': 1, 'Agilité': 1}), '179': defaultdict(<class 'int'>, {'Force': 1, 'Agilité': 1}), '178': defaultdict(<class 'int'>, {'Chance': 1, 'Intelligence': 1}), '177': defaultdict(<class 'int'>, {'Force': 3, 'Intelligence': 2, 'Agilité': 1}), '176': defaultdict(<class 'int'>, {'Chance': 1, 'Intelligence': 2}), '175': defaultdict(<class 'int'>, {'Chance': 2, 'Puissance': 1, 'Agilité': 2, 'Force': 1}), '173': defaultdict(<class 'int'>, {'Force': 2, 'Agilité': 1, 'Chance': 1}), '172': defaultdict(<class 'int'>, {'Intelligence': 3, 'Chance': 2}), '171': defaultdict(<class 'int'>, {'Force': 1, 'Agilité': 1}), '170': defaultdict(<class 'int'>, {'Agilité': 2, 'Chance': 1, 'Force': 1}), '169': defaultdict(<class 'int'>, {'Force': 1, 'Chance': 1, 'Intelligence': 1}), '168': defaultdict(<class 'int'>, {'Chance': 1}), '167': defaultdict(<class 'int'>, {'Force': 1, 'Chance': 1, 'Intelligence': 1}), '166': defaultdict(<class 'int'>, {'Agilité': 1, 'Intelligence': 1}), '165': defaultdict(<class 'int'>, {'Force': 2, 'Agilité': 3, 'Intelligence': 1, 'Puissance': 1}), '164': defaultdict(<class 'int'>, {'Force': 1, 'Agilité': 1}), '163': defaultdict(<class 'int'>, {'Agilité': 1, 'Intelligence': 2, 'Chance': 1}), '162': defaultdict(<class 'int'>, {'Force': 1}), '161': defaultdict(<class 'int'>, {'Chance': 1}), '158': defaultdict(<class 'int'>, {'Force': 1, 'Intelligence': 2, 'Agilité': 3, 'Chance': 1}), '156': defaultdict(<class 'int'>, {'Force': 2, 'Chance': 1, 'Intelligence': 1, 'Puissance': 1}), '154': defaultdict(<class 'int'>, {'Intelligence': 2, 'Agilité': 1}), '153': defaultdict(<class 'int'>, {'Agilité': 1}), '152': defaultdict(<class 'int'>, {'Agilité': 1, 'Intelligence': 1, 'Puissance': 1, 'Chance': 1}), '151': defaultdict(<class 'int'>, {'Agilité': 1, 'Chance': 1, 'Intelligence': 1}), '150': defaultdict(<class 'int'>, {'Force': 1, 'Agilité': 1, 'Intelligence': 1}), '149': defaultdict(<class 'int'>, {'Agilité': 2, 'Puissance': 1, 'Chance': 1, 'Intelligence': 1}), '147': defaultdict(<class 'int'>, {'Force': 1, 'Chance': 1}), '145': defaultdict(<class 'int'>, {'Force': 1, 'Puissance': 2, 'Intelligence': 1}), '144': defaultdict(<class 'int'>, {'Agilité': 1}), '143': defaultdict(<class 'int'>, {'Agilité': 4, 'Intelligence': 2, 'Chance': 2, 'Puissance': 3, 'Force': 1}), '142': defaultdict(<class 'int'>, {'Chance': 1, 'Puissance': 1}), '140': defaultdict(<class 'int'>, {'Force': 1, 'Intelligence': 2, 'Chance': 1, 'Puissance': 1}), '138': defaultdict(<class 'int'>, {'Force': 2, 'Agilité': 1, 'Chance': 2, 'Intelligence': 1}), '137': defaultdict(<class 'int'>, {'Force': 1, 'Intelligence': 1}), '128': defaultdict(<class 'int'>, {'Intelligence': 1}), '127': defaultdict(<class 'int'>, {'Chance': 1, 'Force': 2, 'Agilité': 3, 'Intelligence': 1}), '126': defaultdict(<class 'int'>, {'Agilité': 2, 'Intelligence': 3, 'Puissance': 1, 'Chance': 3}), '125': defaultdict(<class 'int'>, {'Agilité': 1, 'Chance': 1, 'Puissance': 1}), '124': defaultdict(<class 'int'>, {'Agilité': 3, 'Force': 1, 'Chance': 1, 'Intelligence': 2}), '123': defaultdict(<class 'int'>, {'Agilité': 1, 'Chance': 1, 'Intelligence': 1}), '122': defaultdict(<class 'int'>, {'Force': 1, 'Puissance': 2, 'Chance': 1}), '121': defaultdict(<class 'int'>, {'Chance': 2, 'Puissance': 3, 'Agilité': 2, 'Force': 1, 'Intelligence': 1}), '120': defaultdict(<class 'int'>, {'Chance': 3, 'Force': 3, 'Agilité': 3, 'Intelligence': 4, 'Puissance': 1}), '116': defaultdict(<class 'int'>, {'Agilité': 1}), '115': defaultdict(<class 'int'>, {'Chance': 1}), '114': defaultdict(<class 'int'>, {'Intelligence': 1}), '113': defaultdict(<class 'int'>, {'Force': 1, 'Agilité': 3, 'Intelligence': 2}), '112': defaultdict(<class 'int'>, {'Agilité': 1, 'Intelligence': 3, 'Puissance': 3, 'Force': 2}), '111': defaultdict(<class 'int'>, {'Agilité': 2, 'Intelligence': 1, 'Force': 1}), '109': defaultdict(<class 'int'>, {'Force': 1, 'Agilité': 1, 'Chance': 1, 'Intelligence': 1}), '108': defaultdict(<class 'int'>, {'Agilité': 1}), '107': defaultdict(<class 'int'>, {'Intelligence': 5, 'Agilité': 2, 'Chance': 1}), '106': defaultdict(<class 'int'>, {'Agilité': 2, 'Force': 2, 'Intelligence': 1}), '105': defaultdict(<class 'int'>, {'Force': 1, 'Intelligence': 3}), '103': defaultdict(<class 'int'>, {'Puissance': 2, 'Intelligence': 1}), '100': defaultdict(<class 'int'>, {'Agilité': 2, 'Chance': 1, 'Force': 2}), '99': defaultdict(<class 'int'>, {'Force': 1, 'Puissance': 1}), '98': defaultdict(<class 'int'>, {'Intelligence': 1, 'Puissance': 2, 'Chance': 1}), '97': defaultdict(<class 'int'>, {'Force': 2, 'Intelligence': 2, 'Agilité': 1, 'Chance': 1}), '96': defaultdict(<class 'int'>, {'Force': 2, 'Agilité': 2, 'Chance': 2, 'Intelligence': 2, 'Puissance': 1}), '95': defaultdict(<class 'int'>, {'Force': 2, 'Agilité': 2}), '94': defaultdict(<class 'int'>, {'Chance': 1, 'Intelligence': 1}), '93': defaultdict(<class 'int'>, {'Force': 2, 'Intelligence': 1, 'Puissance': 2}), '92': defaultdict(<class 'int'>, {'Force': 1, 'Agilité': 1, 'Puissance': 1}), '91': defaultdict(<class 'int'>, {'Force': 1, 'Agilité': 1, 'Chance': 1}), '90': defaultdict(<class 'int'>, {'Agilité': 1, 'Intelligence': 2, 'Force': 1}), '89': defaultdict(<class 'int'>, {'Force': 2, 'Agilité': 1, 'Puissance': 1}), '88': defaultdict(<class 'int'>, {'Agilité': 1, 'Chance': 2, 'Intelligence': 2, 'Puissance': 1, 'Force': 1}), '87': defaultdict(<class 'int'>, {'Force': 2, 'Agilité': 2, 'Chance': 1, 'Puissance': 2, 'Intelligence': 1}), '86': defaultdict(<class 'int'>, {'Puissance': 2, 'Chance': 1, 'Intelligence': 1}), '85': defaultdict(<class 'int'>, {'Force': 1, 'Agilité': 2, 'Puissance': 3, 'Chance': 2}), '84': defaultdict(<class 'int'>, {'Force': 1, 'Chance': 1}), '83': defaultdict(<class 'int'>, {'Force': 3, 'Puissance': 5, 'Intelligence': 1, 'Agilité': 2}), '82': defaultdict(<class 'int'>, {'Force': 1, 'Agilité': 1, 'Intelligence': 3, 'Puissance': 1, 'Chance': 2}), '81': defaultdict(<class 'int'>, {'Force': 3, 'Intelligence': 4, 'Agilité': 3, 'Puissance': 2, 'Chance': 1}), '80': defaultdict(<class 'int'>, {'Agilité': 4, 'Chance': 4, 'Intelligence': 3, 'Force': 2, 'Puissance': 2}), '79': defaultdict(<class 'int'>, {'Force': 1, 'Chance': 1, 'Intelligence': 1}), '78': defaultdict(<class 'int'>, {'Force': 1, 'Chance': 1, 'Intelligence': 2, 'Puissance': 1}), '77': defaultdict(<class 'int'>, {'Agilité': 1, 'Intelligence': 1, 'Puissance': 1}), '76': defaultdict(<class 'int'>, {'Force': 1, 'Puissance': 1, 'Intelligence': 1}), '75': defaultdict(<class 'int'>, {'Force': 2, 'Agilité': 2, 'Chance': 2, 'Intelligence': 3, 'Puissance': 1}), '74': defaultdict(<class 'int'>, {'Agilité': 1, 'Force': 1, 'Intelligence': 1, 'Puissance': 1}), '73': defaultdict(<class 'int'>, {'Chance': 1, 'Force': 1, 'Agilité': 1, 'Intelligence': 1}), '72': defaultdict(<class 'int'>, {'Chance': 2, 'Force': 1, 'Agilité': 1}), '71': defaultdict(<class 'int'>, {'Force': 1, 'Agilité': 1, 'Intelligence': 1}), '70': defaultdict(<class 'int'>, {'Force': 2, 'Chance': 3, 'Intelligence': 1, 'Puissance': 2, 'Agilité': 1}), '69': defaultdict(<class 'int'>, {'Chance': 1, 'Intelligence': 1, 'Force': 1, 'Agilité': 1}), '68': defaultdict(<class 'int'>, {'Agilité': 2, 'Intelligence': 1, 'Force': 1}), '67': defaultdict(<class 'int'>, {'Force': 2, 'Agilité': 4, 'Intelligence': 2, 'Chance': 1}), '66': defaultdict(<class 'int'>, {'Intelligence': 1}), '60': defaultdict(<class 'int'>, {'Chance': 5, 'Force': 3, 'Agilité': 3, 'Intelligence': 4, 'Puissance': 3}), '59': defaultdict(<class 'int'>, {'Force': 2, 'Agilité': 3, 'Chance': 1, 'Intelligence': 2, 'Puissance': 1}), '58': defaultdict(<class 'int'>, {'Force': 2, 'Chance': 1, 'Agilité': 1, 'Puissance': 1}), '57': defaultdict(<class 'int'>, {'Puissance': 2, 'Agilité': 1, 'Chance': 1, 'Intelligence': 1}), '56': defaultdict(<class 'int'>, {'Agilité': 1, 'Chance': 1, 'Intelligence': 1}), '55': defaultdict(<class 'int'>, {'Agilité': 3, 'Chance': 3, 'Intelligence': 2, 'Puissance': 2, 'Force': 2}), '54': defaultdict(<class 'int'>, {'Force': 1, 'Intelligence': 3}), '53': defaultdict(<class 'int'>, {'Force': 1, 'Agilité': 1, 'Chance': 1}), '52': defaultdict(<class 'int'>, {'Force': 3, 'Agilité': 2, 'Chance': 3, 'Intelligence': 3}), '51': defaultdict(<class 'int'>, {'Intelligence': 3, 'Force': 2, 'Agilité': 1, 'Chance': 1}), '50': defaultdict(<class 'int'>, {'Force': 4, 'Chance': 5, 'Intelligence': 5, 'Agilité': 3, 'Puissance': 1}), '49': defaultdict(<class 'int'>, {'Agilité': 1, 'Force': 2, 'Puissance': 2, 'Intelligence': 1}), '48': defaultdict(<class 'int'>, {'Force': 2, 'Chance': 3, 'Intelligence': 1}), '47': defaultdict(<class 'int'>, {'Force': 2, 'Agilité': 2, 'Intelligence': 2, 'Chance': 2}), '46': defaultdict(<class 'int'>, {'Agilité': 3, 'Puissance': 2, 'Intelligence': 2, 'Force': 1}), '45': defaultdict(<class 'int'>, {'Intelligence': 1, 'Agilité': 1, 'Chance': 1, 'Puissance': 1, 'Force': 1}), '44': defaultdict(<class 'int'>, {'Intelligence': 1, 'Chance': 2}), '43': defaultdict(<class 'int'>, {'Chance': 4, 'Force': 3, 'Agilité': 2, 'Intelligence': 1}), '42': defaultdict(<class 'int'>, {'Force': 2, 'Intelligence': 1}), '41': defaultdict(<class 'int'>, {'Intelligence': 2, 'Force': 1, 'Chance': 1, 'Agilité': 1}), '40': defaultdict(<class 'int'>, {'Agilité': 5, 'Chance': 3, 'Intelligence': 3, 'Force': 4, 'Puissance': 1}), '39': defaultdict(<class 'int'>, {'Chance': 1, 'Intelligence': 1, 'Agilité': 1}), '38': defaultdict(<class 'int'>, {'Force': 1, 'Agilité': 1}), '37': defaultdict(<class 'int'>, {'Force': 1}), '36': defaultdict(<class 'int'>, {'Chance': 3, 'Intelligence': 2, 'Force': 2}), '35': defaultdict(<class 'int'>, {'Chance': 3, 'Intelligence': 3, 'Force': 5, 'Agilité': 6}), '34': defaultdict(<class 'int'>, {'Force': 2, 'Puissance': 1, 'Intelligence': 2, 'Chance': 1}), '33': defaultdict(<class 'int'>, {'Force': 4, 'Agilité': 4, 'Chance': 1, 'Intelligence': 2}), '32': defaultdict(<class 'int'>, {'Force': 1, 'Puissance': 1}), '30': defaultdict(<class 'int'>, {'Chance': 1, 'Agilité': 2}), '29': defaultdict(<class 'int'>, {'Agilité': 2, 'Chance': 2, 'Intelligence': 2, 'Force': 1}), '28': defaultdict(<class 'int'>, {'Intelligence': 2, 'Agilité': 2, 'Force': 1, 'Chance': 1}), '27': defaultdict(<class 'int'>, {'Force': 5, 'Agilité': 4, 'Chance': 3, 'Intelligence': 6}), '26': defaultdict(<class 'int'>, {'Force': 2, 'Intelligence': 2, 'Chance': 2, 'Puissance': 1, 'Agilité': 1}), '25': defaultdict(<class 'int'>, {'Agilité': 3, 'Chance': 4, 'Force': 4, 'Intelligence': 3}), '24': defaultdict(<class 'int'>, {'Force': 2, 'Intelligence': 3, 'Chance': 2, 'Puissance': 1, 'Agilité': 1}), '23': defaultdict(<class 'int'>, {'Agilité': 4, 'Intelligence': 3, 'Force': 1, 'Chance': 2}), '22': defaultdict(<class 'int'>, {'Agilité': 1, 'Chance': 2, 'Force': 2}), '21': defaultdict(<class 'int'>, {'Force': 1, 'Intelligence': 1, 'Agilité': 1, 'Chance': 1}), '20': defaultdict(<class 'int'>, {'Intelligence': 4, 'Chance': 1, 'Agilité': 1}), '18': defaultdict(<class 'int'>, {'Agilité': 3, 'Chance': 2, 'Force': 7, 'Intelligence': 2}), '11': defaultdict(<class 'int'>, {'Intelligence': 1, 'Puissance': 1}), '10': defaultdict(<class 'int'>, {'Force': 1}), '9': defaultdict(<class 'int'>, {'Force': 1}), '8': defaultdict(<class 'int'>, {'Force': 1}), '7': defaultdict(<class 'int'>, {'Force': 1}), '5': defaultdict(<class 'int'>, {'Intelligence': 1, 'Agilité': 1, 'Force': 1, 'Chance': 1}), '4': defaultdict(<class 'int'>, {'Agilité': 1}), '3': defaultdict(<class 'int'>, {'Force': 1}), '2': defaultdict(<class 'int'>, {'Force': 3, 'Agilité': 1, 'Intelligence': 2, 'Chance': 2}), '1': defaultdict(<class 'int'>, {'Puissance': 2})}\n"
     ]
    }
   ],
   "source": [
    "str_item = \"armes\"\n",
    "characteristics, frequency_by_level = create_dic_lvl_by_type(str_item)\n",
    "print(frequency_by_level)"
   ]
  },
  {
   "cell_type": "code",
   "execution_count": 53,
   "metadata": {},
   "outputs": [
    {
     "name": "stderr",
     "output_type": "stream",
     "text": [
      "No artists with labels found to put in legend.  Note that artists whose label start with an underscore are ignored when legend() is called with no argument.\n"
     ]
    },
    {
     "data": {
      "image/png": "[encoded data removed]",
      "text/plain": [
       "<Figure size 640x480 with 1 Axes>"
      ]
     },
     "metadata": {},
     "output_type": "display_data"
    },
    {
     "data": {
      "image/png": "[encoded data removed]",
      "text/plain": [
       "<Figure size 1200x800 with 1 Axes>"
      ]
     },
     "metadata": {},
     "output_type": "display_data"
    }
   ],
   "source": [
    "import matplotlib.pyplot as plt\n",
    "\n",
    "# Order the dictionary by level\n",
    "ordered_frequency_by_level = dict(sorted(frequency_by_level.items(), key=lambda x: int(x[0])))\n",
    "\n",
    "# Extract data for plotting\n",
    "levels = list(ordered_frequency_by_level.keys())\n",
    "characteristics = list(characteristics)\n",
    "\n",
    "# Check if there are any characteristics present\n",
    "if any(characteristic in ordered_frequency_by_level[level] for characteristic in characteristics):\n",
    "\n",
    "    # Create a plot for each characteristic\n",
    "    bar_width = 0.2  # Adjust this value to change the width of each bar\n",
    "    for i, characteristic in enumerate(characteristics):\n",
    "        frequencies = [ordered_frequency_by_level[level].get(characteristic, 0) for level in levels]\n",
    "        plt.bar([level + i * bar_width for level in range(len(levels))], frequencies, label=characteristic, width=bar_width)\n",
    "\n",
    "    # Add labels and title\n",
    "    plt.figure(figsize=(12, 8))  # Adjust the figsize as needed (width, height)\n",
    "    plt.xlabel('Level')\n",
    "    plt.ylabel('Frequency')\n",
    "    plt.title('Frequency of Characteristics by Level')\n",
    "\n",
    "    # Adjust x-axis ticks and labels\n",
    "    plt.xticks([level + bar_width * (len(characteristics) - 1) / 2 for level in range(len(levels))], levels)\n",
    "\n",
    "    # Show the legend\n",
    "    plt.legend()\n",
    "\n",
    "    # Show the plot\n",
    "    plt.tight_layout()\n",
    "    plt.show()\n",
    "\n",
    "else:\n",
    "    print(\"No characteristics found in the data.\")"
   ]
  }
 ],
 "metadata": {
  "kernelspec": {
   "display_name": "Python 3",
   "language": "python",
   "name": "python3"
  },
  "language_info": {
   "codemirror_mode": {
    "name": "ipython",
    "version": 3
   },
   "file_extension": ".py",
   "mimetype": "text/x-python",
   "name": "python",
   "nbconvert_exporter": "python",
   "pygments_lexer": "ipython3",
   "version": "3.10.11"
  }
 },
 "nbformat": 4,
 "nbformat_minor": 2
}
