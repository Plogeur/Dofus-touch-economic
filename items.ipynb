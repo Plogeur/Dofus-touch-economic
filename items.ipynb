{
 "cells": [
  {
   "cell_type": "code",
   "execution_count": 2,
   "metadata": {},
   "outputs": [],
   "source": [
    "import requests\n",
    "from bs4 import BeautifulSoup\n",
    "import time\n",
    "import re"
   ]
  },
  {
   "cell_type": "code",
   "execution_count": 3,
   "metadata": {},
   "outputs": [],
   "source": [
    "def parse_object_page(url, object_n, object_list, base_url):\n",
    "    \"\"\"\n",
    "    Fonction pour parser une page contenant des informations sur un type d'objet.\n",
    "    \"\"\"\n",
    "    headers = {\n",
    "        'User-Agent': 'Mozilla/5.0 (Windows NT 10.0; Win64; x64) AppleWebKit/537.36 (KHTML, like Gecko) Safari/537.3'}\n",
    "    \n",
    "    response = requests.get(url, headers=headers)\n",
    "\n",
    "    if response.status_code == 200 :\n",
    "        soup = BeautifulSoup(response.text, \"html.parser\")\n",
    "        table = soup.find('table', class_='ak-table ak-responsivetable')\n",
    "        if table:\n",
    "            for row in table.find_all(\"tr\")[1:]:\n",
    "                recipe = []\n",
    "                caracteristics = []\n",
    "                effects = []\n",
    "                time.sleep(1)\n",
    "                \n",
    "                name_element = row.find(\"td\").find(\"a\")\n",
    "                name = name_element.text.strip()\n",
    "                href = name_element['href']\n",
    "\n",
    "                if object_n in [\"equipements\", \"armes\", \"consommables\"] :\n",
    "\n",
    "                    recipe_url = base_url + href\n",
    "                    recipe_response = requests.get(recipe_url, headers=headers)\n",
    "                    while recipe_response.status_code != 200 and recipe_response.status_code != 404 : # bloqued script\n",
    "                        time.sleep(10)\n",
    "                        recipe_response = requests.get(recipe_url, headers=headers)\n",
    "\n",
    "                    recipe_soup = BeautifulSoup(recipe_response.text, \"html.parser\")\n",
    "                    recipe_elements = recipe_soup.find_all(class_='ak-column ak-container col-xs-12 col-sm-6')\n",
    "\n",
    "                    # Recipe elements\n",
    "                    for element in recipe_elements:\n",
    "                        span_elements = element.find_all('span', class_='ak-linker')\n",
    "                        for span in span_elements:\n",
    "                            text = span.text.strip()\n",
    "                            if text != '':\n",
    "                                recipe.append(text)\n",
    "                    \n",
    "                    # Properties elements\n",
    "                    if object_n in [\"equipements\", \"armes\"] :\n",
    "                        ak_contents  = recipe_soup.find_all(\"div\", class_=\"col-sm-6\")\n",
    "                        for ak_content in ak_contents:\n",
    "                            panel_titles = ak_content.find_all(class_=\"ak-panel-title\")\n",
    "\n",
    "                            if any(\"Caractéristiques\" in panel_title.text for panel_title in panel_titles):\n",
    "                                ak_titles = ak_content.find_all(\"div\", class_=\"ak-title\")\n",
    "                                if ak_titles:\n",
    "                                    for ak_title in ak_titles:\n",
    "                                        text = ak_title.get_text(strip=True)\n",
    "                                        caracteristics.append(text)\n",
    "                            \n",
    "                            if any(\"Effets\" in panel_title.text for panel_title in panel_titles):\n",
    "                                ak_titles = ak_content.find_all(\"div\", class_=\"ak-title\")\n",
    "                                if ak_titles:\n",
    "                                    for ak_title in ak_titles:\n",
    "                                        text = ak_title.get_text(strip=True)\n",
    "                                        effects.append(text)\n",
    "                            \n",
    "                            if any(\"Conditions\" in panel_title.text for panel_title in panel_titles):\n",
    "                                break\n",
    "\n",
    "                name = row.find(\"td\").find(\"img\")['alt'].strip()\n",
    "                type_ = row.find(\"td\", class_=\"item-type\").text.strip()\n",
    "                level_str = row.find(\"td\", class_=\"item-level\").text.strip()\n",
    "                level = int(re.search(r'\\d+', level_str).group())\n",
    "\n",
    "                object_info = {\n",
    "                    \"name\": name,\n",
    "                    \"type\": type_,\n",
    "                    \"level\": level\n",
    "                }\n",
    "\n",
    "                if object_n in [\"equipements\", \"armes\", \"consommables\"] :\n",
    "                    object_info[\"recipe\"] = recipe\n",
    "                    if object_n in [\"equipements\", \"armes\"] :\n",
    "                        object_info[\"caracteristic\"] = caracteristics\n",
    "                        object_info[\"effect\"] = effects\n",
    "\n",
    "                object_list.append(object_info)\n",
    "            return True  # Indique que la page a été analysée avec succès\n",
    "    else:\n",
    "        return False  # Indique qu'il y a eu une erreur lors de la requête"
   ]
  },
  {
   "cell_type": "code",
   "execution_count": 6,
   "metadata": {},
   "outputs": [],
   "source": [
    "def counter_page(url, object_name) :\n",
    "    headers = {\n",
    "        'User-Agent': 'Mozilla/5.0 (Windows NT 10.0; Win64; x64) AppleWebKit/537.36 (KHTML, like Gecko) Safari/537.3'}\n",
    "    \n",
    "    response = requests.get(url, headers=headers)\n",
    "\n",
    "    while response.status_code != 200 :\n",
    "        time.sleep(10)\n",
    "        response = requests.get(url, headers=headers)\n",
    "\n",
    "    # Parse the HTML\n",
    "    soup = BeautifulSoup(response.text, \"html.parser\")\n",
    "\n",
    "    # Find all <a> tags with href containing '/fr/mmorpg/encyclopedie/armes?page='\n",
    "    url_object = f\"/fr/mmorpg/encyclopedie/{object_name}\\?page=\\d+\"\n",
    "    links = soup.find_all('a', href=re.compile(url_object))\n",
    "\n",
    "    # Extract numbers from the links\n",
    "    numbers = [link.text.strip() for link in links if link.text.strip().isdigit()]\n",
    "    last_pages = int(numbers[-1])\n",
    "    return last_pages"
   ]
  },
  {
   "cell_type": "code",
   "execution_count": 7,
   "metadata": {},
   "outputs": [],
   "source": [
    "def url_parser(base_url) :\n",
    "    encyclopedia_url = base_url + \"/fr/mmorpg/encyclopedie\"\n",
    "\n",
    "    objects = {\n",
    "        \"armes\": [],\n",
    "        \"equipements\": [],\n",
    "        \"consommables\": [],\n",
    "        \"ressources\": []\n",
    "    }\n",
    "\n",
    "    for object_name, object_list in objects.items():\n",
    "        time.sleep(2)\n",
    "        url = f\"{encyclopedia_url}/{object_name}?page=\"\n",
    "        nb_page = counter_page(url, object_name)\n",
    "        for page in range(1, nb_page) :\n",
    "            page_url = f\"{url}{page}\"\n",
    "            success = parse_object_page(page_url, object_name, object_list, base_url)\n",
    "            while success == False :\n",
    "                time.sleep(10)\n",
    "                success = parse_object_page(page_url, object_name, object_list, base_url)\n",
    "        print(f\"{len(object_list)} {object_name} find\")\n",
    "    \n",
    "    return objects"
   ]
  },
  {
   "cell_type": "code",
   "execution_count": 8,
   "metadata": {},
   "outputs": [
    {
     "name": "stdout",
     "output_type": "stream",
     "text": [
      "720 armes find\n",
      "2040 equipements find\n",
      "1248 consommables find\n",
      "1824 ressources find\n"
     ]
    }
   ],
   "source": [
    "base_url = \"https://www.dofus-touch.com\"\n",
    "objects_touch = url_parser(base_url)"
   ]
  },
  {
   "cell_type": "code",
   "execution_count": null,
   "metadata": {},
   "outputs": [],
   "source": [
    "base_url = \"https://www.dofus.com\"\n",
    "objects_pc = url_parser(base_url)"
   ]
  },
  {
   "cell_type": "code",
   "execution_count": 11,
   "metadata": {},
   "outputs": [],
   "source": [
    "import csv \n",
    "\n",
    "def save_object_list_to_csv(object_list, filename):\n",
    "    \"\"\"\n",
    "    Create and save the object_list to a CSV file.\n",
    "    \"\"\"\n",
    "    # Define the fieldnames based on the keys in the dictionaries in object_list\n",
    "    fieldnames = object_list[0].keys()\n",
    "\n",
    "    # Write object_list to a CSV file\n",
    "    with open(filename, mode='w', newline='', encoding='utf-8') as file:\n",
    "        writer = csv.DictWriter(file, fieldnames=fieldnames)\n",
    "        writer.writeheader()\n",
    "        for obj in object_list:\n",
    "            writer.writerow(obj)\n",
    "\n",
    "def save_objects(objects) :\n",
    "    # Assuming object_list is a dictionary where keys are object types and values are lists of objects\n",
    "    for object_name, object_list in objects.items():\n",
    "\n",
    "        filename = f\"touch_{object_name}.csv\"\n",
    "        # Save the object list to the CSV file\n",
    "        save_object_list_to_csv(object_list, filename)"
   ]
  },
  {
   "cell_type": "code",
   "execution_count": null,
   "metadata": {},
   "outputs": [],
   "source": [
    "#save_objects(objects_touch)\n",
    "save_objects(objects_pc)"
   ]
  },
  {
   "cell_type": "code",
   "execution_count": 46,
   "metadata": {},
   "outputs": [],
   "source": [
    "import csv\n",
    "import ast\n",
    "\n",
    "def read_csv_file(filename, object_list):\n",
    "    with open(filename, 'r', newline='', encoding='utf-8') as csvfile:\n",
    "        reader = csv.DictReader(csvfile)  # Using DictReader to directly read rows into dictionaries\n",
    "        for row in reader:\n",
    "            dict_item = {}\n",
    "            for key, value in row.items():\n",
    "\n",
    "                if isinstance(value, str):  # Check if the value is a string\n",
    "                    dict_item[key] = value.replace(\"'\", \" \")\n",
    "                elif isinstance(value, list):  # Check if the value is a list\n",
    "                    dict_item[key] = [element.replace(\"'\", \" \") for element in value]\n",
    "            \n",
    "            try :\n",
    "                dict_item['recipe'] = ast.literal_eval(row['recipe'])\n",
    "            except :\n",
    "                pass\n",
    "            \n",
    "            object_list.append(dict_item)\n",
    "    return object_list"
   ]
  },
  {
   "cell_type": "code",
   "execution_count": 47,
   "metadata": {},
   "outputs": [],
   "source": [
    "objects_touch = {\n",
    "    \"armes\": [],\n",
    "    \"equipements\": [],\n",
    "    \"consommables\": [],\n",
    "    \"ressources\": []\n",
    "}\n",
    "\n",
    "for object_name, object_list in objects_touch.items():\n",
    "    object_list = read_csv_file(f\"data/touch_{object_name}.csv\", object_list)"
   ]
  },
  {
   "cell_type": "code",
   "execution_count": 72,
   "metadata": {},
   "outputs": [],
   "source": [
    "objects_pc = {\n",
    "    \"armes\": [],\n",
    "    \"equipements\": [],\n",
    "    \"consommables\": [],\n",
    "    \"ressources\": []\n",
    "}\n",
    "\n",
    "for object_name, object_list in objects_pc.items():\n",
    "    object_list = read_csv_file(f\"data/pc_{object_name}.csv\", object_list)"
   ]
  },
  {
   "cell_type": "code",
   "execution_count": 50,
   "metadata": {},
   "outputs": [
    {
     "name": "stdout",
     "output_type": "stream",
     "text": [
      "[{'name': 'Hache Ériphe', 'type': 'Hache', 'level': '200', 'recipe': ['Galet acajou', 'Etoffe de Cuirassé', 'Bec de Strigide', 'Œil de verre', 'Essence de Glourséleste', \"Graisse d'Archillusion\", 'Écharpe de Hanshi', \"Bracelet d'Ino-Naru\"], 'caracteristic': '[ PA :5 (1 utilisation par tour) ,  Portée :1 ,  CC :15% (+8) ,  Force > 349 etAgilité de base > 349 ]', 'effect': '[ 15 à 19 (dommages Neutre) ,  21 à 27 (dommages Air) ,  8 à 11 (vol Terre) ,  201 à 250 Vitalité ,  41 à 60 Force ,  41 à 60 Agilité ,  4 à 5% Coups Critiques ,  1 PO ,  -301 à 400 Initiative ,  11 à 15 Prospection ,  14 à 18 Dommages Neutre ,  14 à 18 Dommages Terre ,  14 à 18 Dommages Air ,  7 à 10 % Résistance Neutre ,  7 à 10 % Résistance Air ,  7 à 10 Fuite ,  16 à 20 Dommages Poussée ]'}, {'name': 'Sceptre du Shushuverain', 'type': 'Baguette', 'level': '200', 'recipe': ['Etoffe de Kolosso', 'Galet brasillant', \"Sang d'Armutin\", \"Poil d'aisselle de Missiz Frizz\", 'Culotte de Missiz Frizz', 'Tourmaline', 'Orbe irisé', 'Andésite'], 'caracteristic': '[ PA :4 (1 utilisation par tour) ,  Portée :2 à 6 ,  CC :0% ]', 'effect': '[ 25 à 30 (dommages Air) ,  12 à 14 (dommages Eau) ,  12 à 14 (dommages Eau) ,  301 à 350 Vitalité ,  51 à 70 Agilité ,  51 à 70 Chance ,  31 à 40 Sagesse ,  11 à 15 Résistance Critiques ,  11 à 15 Prospection ,  7 à 10 Fuite ,  7 à 10 % Résistance Terre ,  5 à 7 Retrait PA ,  -10% Coups Critiques ,  1 PO ]'}, {'name': 'Harpelle', 'type': 'Pelle', 'level': '200', 'recipe': [], 'caracteristic': '[]', 'effect': '[]'}, {'name': 'Marteau Submergé', 'type': 'Marteau', 'level': '200', 'recipe': [], 'caracteristic': '[]', 'effect': '[]'}, {'name': 'Arc de Koutoulou', 'type': 'Arc', 'level': '200', 'recipe': ['Pointe osseuse de Grasmera', 'Aile de Gouleton', 'Goulobule rouge', 'Poil de Délégoule', 'Tourmaline', 'Orbe irisé', 'Andésite', 'Chitine de Pandogorgo'], 'caracteristic': '[ PA :4 (1 utilisation par tour) ,  Portée :4 à 7 ,  CC :15% (+10) ]', 'effect': '[ 301 à 400 Initiative ,  351 à 400 Vitalité ,  61 à 80 Force ,  11 à 15 Résistance Critiques ,  21 à 30 Sagesse ,  16 à 20 Dommages Terre ,  5 à 7 % Résistance Eau ,  5 à 7 % Résistance Feu ,  -7 à 10 Esquive PA ,  3 à 4% Coups Critiques ,  36 à 45 (dommages Terre) ,  5 à 7 Fuite ,  5 à 8 Esquive PM ]'}]\n"
     ]
    }
   ],
   "source": [
    "print(objects_touch[\"armes\"][0:5])"
   ]
  },
  {
   "cell_type": "code",
   "execution_count": 87,
   "metadata": {},
   "outputs": [],
   "source": [
    "import matplotlib.pyplot as plt\n",
    "\n",
    "def calculate_occurrences(lst):\n",
    "    occurrences = {}\n",
    "    total_frequency = len(lst)\n",
    "    level_occurence = []\n",
    "    \n",
    "    for n in range(len(lst)) :\n",
    "        level_occurence.append(lst[n][\"level\"])\n",
    "\n",
    "    for item in level_occurence:\n",
    "        occurrences[int(item)] = occurrences.get(int(item), 0) + 1 / total_frequency\n",
    "    \n",
    "    occurrences = dict(sorted(occurrences.items()))\n",
    "    return occurrences\n",
    "\n",
    "def plot_occurrence_difference(occurrences1, occurrences2):\n",
    "    differences = {}\n",
    "    all_keys = set(occurrences1.keys()).union(occurrences2.keys())\n",
    "    for key in all_keys:\n",
    "        difference = (occurrences1.get(key, 0) - occurrences2.get(key, 0)) * 100\n",
    "        differences[key] = difference\n",
    "    \n",
    "    # Plotting\n",
    "    plt.figure(figsize=(16, 10))  # Augmenter la taille de la figure\n",
    "    plt.bar(differences.keys(), differences.values())\n",
    "    plt.xlabel('Niveaux')\n",
    "    plt.ylabel('Fréquences (%)')\n",
    "    plt.title('Fréquence des différence des occurrences divisé par leur ratio respectif en fonction du niveaux pour les armes entre dofus touch et dofus pc')\n",
    "    plt.xticks(rotation=45)\n",
    "    plt.show()"
   ]
  },
  {
   "cell_type": "code",
   "execution_count": 88,
   "metadata": {},
   "outputs": [
    {
     "data": {
      "image/png": "[encoded data removed]",
      "text/plain": [
       "<Figure size 1600x1000 with 1 Axes>"
      ]
     },
     "metadata": {},
     "output_type": "display_data"
    }
   ],
   "source": [
    "occurrences1 = calculate_occurrences(objects_touch[\"ressources\"])\n",
    "occurrences2 = calculate_occurrences(objects_pc[\"ressources\"])\n",
    "plot_occurrence_difference(occurrences1, occurrences2)"
   ]
  },
  {
   "cell_type": "code",
   "execution_count": 52,
   "metadata": {},
   "outputs": [],
   "source": [
    "from collections import defaultdict\n",
    "\n",
    "def create_dic_lvl_by_type(str_item):\n",
    "\n",
    "    # List of characteristics to check for\n",
    "    characteristics = [\"Force\", \"Agilité\", \"Chance\", \"Intelligence\", \"Puissance\"]\n",
    "\n",
    "    # Initialize dictionary to store frequency of characteristics by level\n",
    "    frequency_by_level = defaultdict(lambda: defaultdict(int))\n",
    "\n",
    "    # Iterate over input data\n",
    "    for item in objects_touch[str_item]:\n",
    "        level = item['level']\n",
    "        effect = item['effect']\n",
    "        for characteristic in characteristics:\n",
    "            if characteristic in effect:\n",
    "                frequency_by_level[level][characteristic] += 1\n",
    "\n",
    "    return characteristics, dict(frequency_by_level)"
   ]
  },
  {
   "cell_type": "code",
   "execution_count": 53,
   "metadata": {},
   "outputs": [],
   "source": [
    "str_item = \"armes\"\n",
    "characteristics, frequency_by_level = create_dic_lvl_by_type(str_item)"
   ]
  },
  {
   "cell_type": "code",
   "execution_count": 16,
   "metadata": {},
   "outputs": [
    {
     "data": {
      "image/png": "[encoded data removed]",
      "text/plain": [
       "<Figure size 640x480 with 1 Axes>"
      ]
     },
     "metadata": {},
     "output_type": "display_data"
    }
   ],
   "source": [
    "import matplotlib.pyplot as plt\n",
    "\n",
    "# Order the dictionary by level\n",
    "ordered_frequency_by_level = dict(sorted(frequency_by_level.items(), key=lambda x: int(x[0])))\n",
    "\n",
    "# Extract data for plotting\n",
    "levels = list(ordered_frequency_by_level.keys())\n",
    "characteristics = list(characteristics)\n",
    "\n",
    "# Check if there are any characteristics present\n",
    "if any(any(characteristic in ordered_frequency_by_level[level] for characteristic in characteristics) for level in levels):\n",
    "\n",
    "    # Create a plot for each characteristic\n",
    "    bar_width = 0.2  # Adjust this value to change the width of each bar\n",
    "    for i, characteristic in enumerate(characteristics):\n",
    "        frequencies = [ordered_frequency_by_level[level].get(characteristic, 0) for level in levels]\n",
    "        plt.bar([level + i * bar_width for level in range(len(levels))], frequencies, label=characteristic, width=bar_width)\n",
    "\n",
    "    # # Add labels and title\n",
    "    # plt.figure(figsize=(16, 10))  # Adjust the figsize as needed (width, height)\n",
    "    # plt.xlabel('Level')\n",
    "    # plt.ylabel('Frequency')\n",
    "    # plt.title('Frequency of Characteristics by Level')\n",
    "\n",
    "    # # Adjust x-axis ticks and labels\n",
    "    # plt.xticks([level + bar_width * (len(characteristics) - 1) / 2 for level in range(len(levels))], levels)\n",
    "\n",
    "    # # Show the legend\n",
    "    # plt.legend()\n",
    "\n",
    "    # # Show the plot\n",
    "    plt.tight_layout()\n",
    "    plt.show()\n",
    "\n",
    "else:\n",
    "    print(\"No characteristics found in the data.\")"
   ]
  }
 ],
 "metadata": {
  "kernelspec": {
   "display_name": "Python 3",
   "language": "python",
   "name": "python3"
  },
  "language_info": {
   "codemirror_mode": {
    "name": "ipython",
    "version": 3
   },
   "file_extension": ".py",
   "mimetype": "text/x-python",
   "name": "python",
   "nbconvert_exporter": "python",
   "pygments_lexer": "ipython3",
   "version": "3.10.11"
  }
 },
 "nbformat": 4,
 "nbformat_minor": 2
}
