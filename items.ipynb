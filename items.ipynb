{
 "cells": [
  {
   "cell_type": "code",
   "execution_count": 7,
   "metadata": {},
   "outputs": [],
   "source": [
    "import requests\n",
    "from bs4 import BeautifulSoup\n",
    "import time\n",
    "import re\n",
    "import csv"
   ]
  },
  {
   "cell_type": "code",
   "execution_count": 17,
   "metadata": {},
   "outputs": [],
   "source": [
    "def parse_object_page(url, object_n, object_list, base_url):\n",
    "    \"\"\"\n",
    "    Fonction pour parser une page contenant des informations sur un type d'objet.\n",
    "    \"\"\"\n",
    "    headers = {\n",
    "        'User-Agent': 'Mozilla/5.0 (Windows NT 10.0; Win64; x64) AppleWebKit/537.36 (KHTML, like Gecko) Safari/537.3'}\n",
    "    \n",
    "    response = requests.get(url, headers=headers)\n",
    "\n",
    "    if response.status_code == 200 :\n",
    "        soup = BeautifulSoup(response.text, \"html.parser\")\n",
    "        table = soup.find('table', class_='ak-table ak-responsivetable')\n",
    "        if table:\n",
    "            for row in table.find_all(\"tr\")[1:]:\n",
    "                recipe = []\n",
    "                caracteristics = []\n",
    "                effects = []\n",
    "                time.sleep(1)\n",
    "                \n",
    "                name_element = row.find(\"td\").find(\"a\")\n",
    "                name = name_element.text.strip()\n",
    "                href = name_element['href']\n",
    "\n",
    "                if object_n in [\"equipements\", \"armes\", \"consommables\"] :\n",
    "\n",
    "                    recipe_url = base_url + href\n",
    "                    recipe_response = requests.get(recipe_url, headers=headers)\n",
    "                    recipe_soup = BeautifulSoup(recipe_response.text, \"html.parser\")\n",
    "                    recipe_elements = recipe_soup.find_all(class_='ak-column ak-container col-xs-12 col-sm-6')\n",
    "\n",
    "                    # Recipe elements\n",
    "                    for element in recipe_elements:\n",
    "                        span_elements = element.find_all('span', class_='ak-linker')\n",
    "                        for span in span_elements:\n",
    "                            text = span.text.strip()\n",
    "                            if text != '':\n",
    "                                recipe.append(text)\n",
    "                    \n",
    "                    # Properties elements\n",
    "                    if object_n in [\"equipements\", \"armes\"] :\n",
    "                        ak_contents  = recipe_soup.find_all(\"div\", class_=\"col-sm-6\")\n",
    "                        for ak_content in ak_contents:\n",
    "                            panel_titles = ak_content.find_all(class_=\"ak-panel-title\")\n",
    "\n",
    "                            if any(\"Caractéristiques\" in panel_title.text for panel_title in panel_titles):\n",
    "                                ak_titles = ak_content.find_all(\"div\", class_=\"ak-title\")\n",
    "                                if ak_titles:\n",
    "                                    for ak_title in ak_titles:\n",
    "                                        text = ak_title.get_text(strip=True)\n",
    "                                        caracteristics.append(text)\n",
    "                            \n",
    "                            if any(\"Effets\" in panel_title.text for panel_title in panel_titles):\n",
    "                                ak_titles = ak_content.find_all(\"div\", class_=\"ak-title\")\n",
    "                                if ak_titles:\n",
    "                                    for ak_title in ak_titles:\n",
    "                                        text = ak_title.get_text(strip=True)\n",
    "                                        effects.append(text)\n",
    "                            \n",
    "                            if any(\"Conditions\" in panel_title.text for panel_title in panel_titles):\n",
    "                                break\n",
    "\n",
    "                name = row.find(\"td\").find(\"img\")['alt'].strip()\n",
    "                type_ = row.find(\"td\", class_=\"item-type\").text.strip()\n",
    "                level_str = row.find(\"td\", class_=\"item-level\").text.strip()\n",
    "                level = int(re.search(r'\\d+', level_str).group())\n",
    "\n",
    "                object_info = {\n",
    "                    \"name\": name,\n",
    "                    \"type\": type_,\n",
    "                    \"level\": level\n",
    "                }\n",
    "\n",
    "                if object_n in [\"equipements\", \"armes\", \"consommables\"] :\n",
    "                    object_info[\"recipe\"] = recipe\n",
    "                    if object_n in [\"equipements\", \"armes\"] :\n",
    "                        object_info[\"caracteristic\"] = caracteristics\n",
    "                        object_info[\"effect\"] = effects\n",
    "\n",
    "                object_list.append(object_info)\n",
    "            return True  # Indique que la page a été analysée avec succès\n",
    "    else:\n",
    "        return False  # Indique qu'il y a eu une erreur lors de la requête"
   ]
  },
  {
   "cell_type": "code",
   "execution_count": 18,
   "metadata": {},
   "outputs": [],
   "source": [
    "def counter_page(url, object_name) :\n",
    "    headers = {\n",
    "        'User-Agent': 'Mozilla/5.0 (Windows NT 10.0; Win64; x64) AppleWebKit/537.36 (KHTML, like Gecko) Safari/537.3'}\n",
    "    \n",
    "    response = requests.get(url, headers=headers)\n",
    "\n",
    "    while response.status_code != 200 :\n",
    "        time.sleep(10)\n",
    "        response = requests.get(url, headers=headers)\n",
    "\n",
    "    # Parse the HTML\n",
    "    soup = BeautifulSoup(response.text, \"html.parser\")\n",
    "\n",
    "    # Find all <a> tags with href containing '/fr/mmorpg/encyclopedie/armes?page='\n",
    "    url_object = f\"/fr/mmorpg/encyclopedie/{object_name}\\?page=\\d+\"\n",
    "    links = soup.find_all('a', href=re.compile(url_object))\n",
    "\n",
    "    # Extract numbers from the links\n",
    "    numbers = [link.text.strip() for link in links if link.text.strip().isdigit()]\n",
    "    last_pages = int(numbers[-1])\n",
    "    return last_pages"
   ]
  },
  {
   "cell_type": "code",
   "execution_count": 19,
   "metadata": {},
   "outputs": [],
   "source": [
    "def url_parser(base_url) :\n",
    "    encyclopedia_url = base_url + \"/fr/mmorpg/encyclopedie\"\n",
    "\n",
    "    objects = {\n",
    "        \"armes\": [],\n",
    "        \"equipements\": [],\n",
    "        \"consommables\": [],\n",
    "        \"ressources\": []\n",
    "    }\n",
    "\n",
    "    for object_name, object_list in objects.items():\n",
    "        time.sleep(2)\n",
    "        url = f\"{encyclopedia_url}/{object_name}?page=\"\n",
    "        nb_page = counter_page(url, object_name)\n",
    "        for page in range(1, nb_page) :\n",
    "            page_url = f\"{url}{page}\"\n",
    "            success = parse_object_page(page_url, object_name, object_list, base_url)\n",
    "            while success == False :\n",
    "                time.sleep(10)\n",
    "                success = parse_object_page(page_url, object_name, object_list, base_url)\n",
    "        print(f\"{len(object_list)} {object_name} find\")\n",
    "    \n",
    "    return objects"
   ]
  },
  {
   "cell_type": "code",
   "execution_count": 21,
   "metadata": {},
   "outputs": [
    {
     "name": "stdout",
     "output_type": "stream",
     "text": [
      "720 armes find\n",
      "2040 equipements find\n",
      "1248 consommables find\n",
      "1824 ressources find\n"
     ]
    }
   ],
   "source": [
    "base_url = \"https://www.dofus-touch.com\" # replace here to dofus in order to change the url\n",
    "objects_touch = url_parser(base_url)"
   ]
  },
  {
   "cell_type": "code",
   "execution_count": 22,
   "metadata": {},
   "outputs": [
    {
     "name": "stdout",
     "output_type": "stream",
     "text": [
      "{'name': 'Hache Ériphe', 'type': 'Hache', 'level': 200, 'recipe': ['Galet acajou', 'Etoffe de Cuirassé', 'Bec de Strigide', 'Œil de verre', 'Essence de Glourséleste', \"Graisse d'Archillusion\", 'Écharpe de Hanshi', \"Bracelet d'Ino-Naru\"], 'caracteristic': ['PA :5 (1 utilisation par tour)', 'Portée :1', 'CC :15% (+8)', 'Force > 349 etAgilité de base > 349'], 'effect': ['15 à 19 (dommages Neutre)', '21 à 27 (dommages Air)', '8 à 11 (vol Terre)', '201 à 250 Vitalité', '41 à 60 Force', '41 à 60 Agilité', '4 à 5% Coups Critiques', '1 PO', '-301 à 400 Initiative', '11 à 15 Prospection', '14 à 18 Dommages Neutre', '14 à 18 Dommages Terre', '14 à 18 Dommages Air', '7 à 10 % Résistance Neutre', '7 à 10 % Résistance Air', '7 à 10 Fuite', '16 à 20 Dommages Poussée']}\n",
      "{'name': 'Coiffe du Comte Harebourg', 'type': 'Chapeau', 'level': 200, 'recipe': ['Galet acajou', 'Oeil de Harrogant', 'Cuir de Cuirboule', \"Sang d'Armutin\", 'Plume de Sinistro', 'Aile de Sinistrofu', 'Œil de verre', 'Essence de Comte Harebourg', 'Coiffe du Comte Harebourg', 'Anneau du Comte Harebourg', 'Bottes du Comte Harebourg'], 'caracteristic': [], 'effect': ['451 à 500 Vitalité', '71 à 100 Force', '41 à 60 Sagesse', '1 PO', '21 à 30 Prospection', '16 à 20 Dommages Neutre', '16 à 20 Dommages Terre', '-4 à 5 % Résistance Neutre', '-4 à 5 % Résistance Terre', '-4 à 5 % Résistance Feu', '-4 à 5 % Résistance Eau', '-4 à 5 % Résistance Air', '6 à 8 Retrait PA', '16 à 20 Tacle']}\n",
      "{'name': 'Poitrine de Glourson fumée', 'type': 'Viande comestible', 'level': 200, 'recipe': ['Dose de jus goûtu', 'Cerise', 'Huile à frire', 'Oignon', 'Épices', 'Mesure de Poivre', 'Sang infecté', 'Poitrine de Glourson conservée']}\n",
      "{'name': 'Poitrine de Glourséleste', 'type': 'Viande', 'level': 200}\n"
     ]
    }
   ],
   "source": [
    "print(objects_touch[\"armes\"][0])\n",
    "print(objects_touch[\"equipements\"][0])\n",
    "print(objects_touch[\"consommables\"][0])\n",
    "print(objects_touch[\"ressources\"][0])"
   ]
  },
  {
   "cell_type": "code",
   "execution_count": 34,
   "metadata": {},
   "outputs": [],
   "source": [
    "def save_object_list_to_csv(object_list, filename):\n",
    "    \"\"\"\n",
    "    Create and save the object_list to a CSV file.\n",
    "    \"\"\"\n",
    "    # Define the fieldnames based on the keys in the dictionaries in object_list\n",
    "    fieldnames = object_list[0].keys()\n",
    "\n",
    "    # Write object_list to a CSV file\n",
    "    with open(filename, mode='w', newline='', encoding='utf-8') as file:\n",
    "        writer = csv.DictWriter(file, fieldnames=fieldnames)\n",
    "        writer.writeheader()\n",
    "        for obj in object_list:\n",
    "            writer.writerow(obj)\n",
    "\n",
    "def save_objects(objects) :\n",
    "    # Assuming object_list is a dictionary where keys are object types and values are lists of objects\n",
    "    for object_name, object_list in objects.items():\n",
    "\n",
    "        filename = f\"touch_{object_name}.csv\"\n",
    "        # Save the object list to the CSV file\n",
    "        save_object_list_to_csv(object_list, filename)\n",
    "\n",
    "save_objects(objects_touch)"
   ]
  },
  {
   "cell_type": "code",
   "execution_count": 35,
   "metadata": {},
   "outputs": [],
   "source": [
    "import csv\n",
    "import ast\n",
    "\n",
    "def read_csv_file(filename):\n",
    "    data = []  # List to store dictionaries for each row\n",
    "    with open(filename, 'r', newline='', encoding='utf-8') as csvfile:\n",
    "        reader = csv.DictReader(csvfile)  # Using DictReader to directly read rows into dictionaries\n",
    "        for row in reader:\n",
    "            # Convert the recipe string into a list\n",
    "            try :\n",
    "                row['recipe'] = ast.literal_eval(row['recipe'])\n",
    "            except :\n",
    "                pass\n",
    "\n",
    "            for key, value in row.items():\n",
    "                if isinstance(value, str):  # Check if the value is a string\n",
    "                    row[key] = value.replace(\"'\", \" \")\n",
    "                elif isinstance(value, list):  # Check if the value is a list\n",
    "                    row[key] = [element.replace(\"'\", \" \") for element in value]\n",
    "                    \n",
    "            data.append(row)\n",
    "    return data"
   ]
  },
  {
   "cell_type": "code",
   "execution_count": 36,
   "metadata": {},
   "outputs": [],
   "source": [
    "objects_touch = {\n",
    "    \"armes\": [],\n",
    "    \"equipements\": [],\n",
    "    \"consommables\": [],\n",
    "    \"ressources\": []\n",
    "}\n",
    "\n",
    "for object_name, object_list in objects_touch.items():\n",
    "    object_list.extend(read_csv_file(f\"data/touch_{object_name}.csv\"))"
   ]
  },
  {
   "cell_type": "code",
   "execution_count": 67,
   "metadata": {},
   "outputs": [],
   "source": [
    "objects_pc = {\n",
    "    \"armes\": [],\n",
    "    \"equipements\": [],\n",
    "    \"consommables\": [],\n",
    "    \"ressources\": []\n",
    "}\n",
    "\n",
    "for object_name, object_list in objects_pc.items():\n",
    "    object_list.extend(read_csv_file(f\"data/pc_{object_name}.csv\"))"
   ]
  },
  {
   "cell_type": "code",
   "execution_count": 98,
   "metadata": {},
   "outputs": [],
   "source": [
    "import matplotlib.pyplot as plt\n",
    "\n",
    "def calculate_occurrences(lst):\n",
    "    occurrences = {}\n",
    "    total_frequency = len(lst)\n",
    "    for item in lst:\n",
    "        occurrences[item] = occurrences.get(item, 0) + 1 / total_frequency\n",
    "    return occurrences\n",
    "\n",
    "def plot_occurrence_difference(occurrences1, occurrences2):\n",
    "    differences = {}\n",
    "    all_keys = set(occurrences1.keys()).union(occurrences2.keys())\n",
    "    for key in all_keys:\n",
    "        difference = (occurrences1.get(key, 0) - occurrences2.get(key, 0)) * 100\n",
    "        differences[key] = difference\n",
    "        \n",
    "    # Plotting\n",
    "    plt.figure(figsize=(16, 10))  # Augmenter la taille de la figure\n",
    "    plt.bar(differences.keys(), differences.values())\n",
    "    plt.xlabel('Niveaux')\n",
    "    plt.ylabel('Fréquences (%)')\n",
    "    plt.title('Différence des occurrences divisé par leur ratio respectif en fonction du niveaux')\n",
    "    plt.xticks(rotation=45)\n",
    "    plt.show()"
   ]
  },
  {
   "cell_type": "code",
   "execution_count": 99,
   "metadata": {},
   "outputs": [],
   "source": [
    "def extract_lvl(str_item) :\n",
    "    equipments_touch = objects_touch[str_item]\n",
    "    equipments_pc = objects_pc[str_item]\n",
    "\n",
    "    niveaux_equipment_touch = [equipement['level'] for equipement in equipments_touch]    \n",
    "    niveaux_equipment_pc = [int(equipement['level']) for equipement in equipments_pc]\n",
    "\n",
    "    return niveaux_equipment_touch, niveaux_equipment_pc"
   ]
  },
  {
   "cell_type": "code",
   "execution_count": 103,
   "metadata": {},
   "outputs": [
    {
     "data": {
      "image/png": "[encoded data removed]",
      "text/plain": [
       "<Figure size 1600x1000 with 1 Axes>"
      ]
     },
     "metadata": {},
     "output_type": "display_data"
    }
   ],
   "source": [
    "str_item = \"consommables\"\n",
    "niveaux_equipment_touch, niveaux_equipment_pc = extract_lvl(str_item)\n",
    "\n",
    "# Calculate occurrences for each list\n",
    "occurrences_touch = calculate_occurrences(niveaux_equipment_touch)\n",
    "occurrences_pc = calculate_occurrences(niveaux_equipment_pc)\n",
    "\n",
    "# Plot the difference in occurrences\n",
    "plot_occurrence_difference(occurrences_touch, occurrences_pc)"
   ]
  }
 ],
 "metadata": {
  "kernelspec": {
   "display_name": "Python 3",
   "language": "python",
   "name": "python3"
  },
  "language_info": {
   "codemirror_mode": {
    "name": "ipython",
    "version": 3
   },
   "file_extension": ".py",
   "mimetype": "text/x-python",
   "name": "python",
   "nbconvert_exporter": "python",
   "pygments_lexer": "ipython3",
   "version": "3.10.11"
  }
 },
 "nbformat": 4,
 "nbformat_minor": 2
}
